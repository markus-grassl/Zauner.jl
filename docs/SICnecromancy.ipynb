{
 "cells": [
  {
   "cell_type": "markdown",
   "metadata": {
    "collapsed": true,
    "jupyter": {
     "outputs_hidden": true
    }
   },
   "source": [
    "## Numerical SIC necromancy"
   ]
  },
  {
   "cell_type": "markdown",
   "metadata": {
    "collapsed": true,
    "jupyter": {
     "outputs_hidden": true
    }
   },
   "source": [
    "Here we will try to reanimate a SIC from a small subset of the overlaps."
   ]
  },
  {
   "cell_type": "code",
   "execution_count": null,
   "metadata": {},
   "outputs": [],
   "source": [
    "[ activate \"/Users/sflammia/Dropbox/Github/Zaunerdev\""
   ]
  },
  {
   "cell_type": "code",
   "execution_count": 1,
   "metadata": {},
   "outputs": [
    {
     "name": "stderr",
     "output_type": "stream",
     "text": [
      "┌ Info: Precompiling Convex [f65535da-76fb-5f13-bab9-19810c17039a]\n",
      "└ @ Base loading.jl:1260\n",
      "┌ Info: Precompiling SCS [c946c3f1-0d1f-5ce8-9dea-7daa1f7e2d13]\n",
      "└ @ Base loading.jl:1260\n"
     ]
    }
   ],
   "source": [
    "using Convex\n",
    "using SCS\n",
    "using LinearAlgebra\n",
    "using SparseArrays\n",
    "using DelimitedFiles"
   ]
  },
  {
   "cell_type": "markdown",
   "metadata": {},
   "source": [
    "Computes the overlap $\\sqrt{d+1}\\, \\mathrm{Tr}(D^\\dagger_p M)$. For a SIC this is a complex unit whenever $p\\neq0$. "
   ]
  },
  {
   "cell_type": "code",
   "execution_count": 2,
   "metadata": {},
   "outputs": [
    {
     "data": {
      "text/plain": [
       "overlap (generic function with 1 method)"
      ]
     },
     "execution_count": 2,
     "metadata": {},
     "output_type": "execute_result"
    }
   ],
   "source": [
    "function overlap(M,x,z)\n",
    "    # The computes the overlap of a matrix M with the (x,z) Weyl-Heisenberg operator in dimension d.\n",
    "    # If the input is a vector v, it efficiently computes the overlap for the matrix v*v'.\n",
    "    d = size(M)[1]\n",
    "    τ = -exp(pi*im/d)\n",
    "    ω = exp(2*pi*im/d)\n",
    "    s = 0\n",
    "    if length(size(M))==2\n",
    "        for j=0:d-1\n",
    "            s += ω^(-j*z) * M[j+1,mod(j-x,d)+1]\n",
    "        end\n",
    "    elseif length(size(M))==1\n",
    "        for j=0:d-1\n",
    "            s += ω^(-j*z) * M[j+1]*conj(M[mod(j-x,d)+1])\n",
    "        end\n",
    "    end\n",
    "    \n",
    "    return sqrt(d+1)*τ^(x*z)*s\n",
    "end"
   ]
  },
  {
   "cell_type": "markdown",
   "metadata": {},
   "source": [
    "Return a fiducial vector from the Scott numerical paper arXiv:1703.03993."
   ]
  },
  {
   "cell_type": "code",
   "execution_count": 3,
   "metadata": {},
   "outputs": [
    {
     "data": {
      "text/plain": [
       "fiducial (generic function with 1 method)"
      ]
     },
     "execution_count": 3,
     "metadata": {},
     "output_type": "execute_result"
    }
   ],
   "source": [
    "function fiducial(d,fid)\n",
    "    psi = readdlm(\"$(pwd())/Scott_solutions/sicfiducial.$(d).$(fid).150.txt\")\n",
    "    psi = vec([parse(ComplexF64,x*\"m\") for x in psi])\n",
    "    return psi\n",
    "end"
   ]
  },
  {
   "cell_type": "markdown",
   "metadata": {},
   "source": [
    "This function is a convex optimization that attempts to find a low-rank matrix consistent with a list of linear functions of the matrix and a positivity constraint. The precision and max iterations are hard-coded at the moment."
   ]
  },
  {
   "cell_type": "code",
   "execution_count": 14,
   "metadata": {},
   "outputs": [
    {
     "data": {
      "text/plain": [
       "necromancy (generic function with 1 method)"
      ]
     },
     "execution_count": 14,
     "metadata": {},
     "output_type": "execute_result"
    }
   ],
   "source": [
    "function necromancy(d,olps)\n",
    "    M = HermitianSemidefinite(d,d)\n",
    "    obj = real(tr(M))\n",
    "    cons = real(tr(M)) >= 0\n",
    "    for j=1:size(olps)[1]\n",
    "        cons += overlap(M,Int(olps[j,1]),Int(olps[j,2])) == olps[j,3]\n",
    "    end\n",
    "    prob = minimize(obj,cons)\n",
    "    solve!(prob, SCS.Optimizer(verbose=0,eps=1.0e-9,max_iters=1e5))\n",
    "    return evaluate(M)\n",
    "end"
   ]
  },
  {
   "cell_type": "code",
   "execution_count": 15,
   "metadata": {},
   "outputs": [
    {
     "data": {
      "text/plain": [
       "sampleoverlaps (generic function with 1 method)"
      ]
     },
     "execution_count": 15,
     "metadata": {},
     "output_type": "execute_result"
    }
   ],
   "source": [
    "# Pick a subset of the indices at random by Bernoulli sampling with some probability\n",
    "function sampleoverlaps(p,psi)\n",
    "    d = length(psi)\n",
    "    inds = findall(x->x<p, rand(d,d))\n",
    "    olps = zeros(Complex{Float64},length(inds),3)\n",
    "    for j=1:length(inds)\n",
    "        olps[j,1:3] = [inds[j][1], inds[j][2], overlap(psi,inds[j][1],inds[j][2])]\n",
    "    end\n",
    "    \n",
    "    return olps\n",
    "end"
   ]
  },
  {
   "cell_type": "markdown",
   "metadata": {
    "collapsed": true,
    "jupyter": {
     "outputs_hidden": true
    }
   },
   "source": [
    "Now fix a fiducial, sample some overlaps at random, and perform \"matrix necromancy\". Note: on Steve's laptop machine, $d=147$ can be done in under 5 minutes. $d=199$ took a little over 13 minutes on Steve's desktop. "
   ]
  },
  {
   "cell_type": "code",
   "execution_count": 6,
   "metadata": {},
   "outputs": [
    {
     "name": "stdout",
     "output_type": "stream",
     "text": [
      " 34.794279 seconds (77.93 M allocations: 4.745 GiB, 5.92% gc time)\n"
     ]
    },
    {
     "data": {
      "text/plain": [
       "4-element Array{Float64,1}:\n",
       " 6.37891695697154e-11\n",
       " 2.586763933423377e-11\n",
       " 5.68929348077063e-11\n",
       " 1.048126745777348e-10"
      ]
     },
     "execution_count": 6,
     "metadata": {},
     "output_type": "execute_result"
    }
   ],
   "source": [
    "d = 51;  fid = \"a\"\n",
    "psi = fiducial(d,fid)\n",
    "\n",
    "olps = sampleoverlaps(3/d,psi)\n",
    "\n",
    "@time M = necromancy(d,olps)\n",
    "\n",
    "# M is an approxiamte SIC if this vector is numerically zero\n",
    "[norm(M*M-M),norm(M-M'),real(tr(M))-1,norm(M-psi*psi')]"
   ]
  },
  {
   "cell_type": "markdown",
   "metadata": {},
   "source": [
    "Now we are ready for prime time. We can try to actually perform numerical necromancy with some overlaps that Marcus has calculated using Gene's method."
   ]
  },
  {
   "cell_type": "code",
   "execution_count": 7,
   "metadata": {},
   "outputs": [
    {
     "data": {
      "text/plain": [
       "readoverlaps (generic function with 1 method)"
      ]
     },
     "execution_count": 7,
     "metadata": {},
     "output_type": "execute_result"
    }
   ],
   "source": [
    "function readoverlaps(d,fid)\n",
    "    psi = readdlm(\"$(pwd())/d100_overlaps/overlaps_d100_fid$(fid).csv\",',')\n",
    "    # psi = readdlm(\"$(pwd())/Appleby_overlaps/overlaps_$(d)$(fid).csv\",',')\n",
    "    # psi = readdlm(\"$(pwd())/dim50_from_orbits_4_and_5/overlaps_d$(d)_number$(fid).csv\",',')\n",
    "    olps = vec([parse(ComplexF64,x[1:end-2]*\"im\") for x in psi[:,3]])\n",
    "    pvals = ComplexF64.(psi[:,1:2])\n",
    "    psi = hcat([pvals olps])\n",
    "    return psi\n",
    "end"
   ]
  },
  {
   "cell_type": "markdown",
   "metadata": {},
   "source": [
    "Lastly, we need a verification step to actually check that this produces a SIC. We check that the first column has the correct overlaps."
   ]
  },
  {
   "cell_type": "code",
   "execution_count": 8,
   "metadata": {},
   "outputs": [
    {
     "data": {
      "text/plain": [
       "sictest (generic function with 1 method)"
      ]
     },
     "execution_count": 8,
     "metadata": {},
     "output_type": "execute_result"
    }
   ],
   "source": [
    "function sictest(v)\n",
    "    # returns a numerical check that all of the overlaps have the correct absolute value\n",
    "    d = length(v)\n",
    "    siccheck = abs.([ overlap(v,x,z) for x in 1:d for z in 1:d ])/(v'*v)\n",
    "    siccheck[d^2] += -sqrt(d+1)+1\n",
    "    return maximum(abs.(siccheck.-1))\n",
    "end"
   ]
  },
  {
   "cell_type": "code",
   "execution_count": 11,
   "metadata": {},
   "outputs": [
    {
     "data": {
      "text/plain": [
       "7200×3 Array{Complex{Float64},2}:\n",
       " 150.0+0.0im   99.0+0.0im   0.588778-0.808295im\n",
       "  50.0+0.0im   97.0+0.0im  -0.673051+0.739596im\n",
       "  50.0+0.0im   93.0+0.0im  -0.960848+0.277078im\n",
       " 150.0+0.0im   91.0+0.0im  -0.974086+0.226179im\n",
       "  50.0+0.0im   89.0+0.0im   0.918751-0.394838im\n",
       " 150.0+0.0im   87.0+0.0im  0.0936928-0.995601im\n",
       " 150.0+0.0im   83.0+0.0im  -0.242092-0.970253im\n",
       "  50.0+0.0im   81.0+0.0im  -0.971607-0.236599im\n",
       " 150.0+0.0im   79.0+0.0im  -0.690334+0.72349im\n",
       "  50.0+0.0im   77.0+0.0im   0.266141+0.963934im\n",
       "  50.0+0.0im   73.0+0.0im   0.505574-0.862783im\n",
       " 150.0+0.0im   71.0+0.0im   0.280374-0.959891im\n",
       "  50.0+0.0im   69.0+0.0im  -0.997461+0.0712216im\n",
       "      ⋮                    \n",
       " 151.0+0.0im   62.0+0.0im   0.325577+0.945516im\n",
       " 101.0+0.0im  161.0+0.0im   0.989472-0.144727im\n",
       "  51.0+0.0im   60.0+0.0im  -0.758278-0.651932im\n",
       "   1.0+0.0im  159.0+0.0im  -0.999367-0.0355869im\n",
       " 151.0+0.0im   58.0+0.0im   0.579099-0.815257im\n",
       " 101.0+0.0im  157.0+0.0im     0.9834-0.181451im\n",
       "  51.0+0.0im   56.0+0.0im  -0.127916+0.991785im\n",
       "   1.0+0.0im  155.0+0.0im   0.218494-0.975838im\n",
       " 151.0+0.0im   54.0+0.0im  0.0762275-0.99709im\n",
       " 101.0+0.0im  153.0+0.0im  -0.255535+0.9668im\n",
       "  51.0+0.0im   52.0+0.0im  -0.999848+0.0174497im\n",
       "   1.0+0.0im  151.0+0.0im   0.588778-0.808295im"
      ]
     },
     "execution_count": 11,
     "metadata": {},
     "output_type": "execute_result"
    }
   ],
   "source": [
    "d = 100;\n",
    "\n",
    "fid=5;\n",
    "\n",
    "olps = readoverlaps(d,fid)\n"
   ]
  },
  {
   "cell_type": "markdown",
   "metadata": {},
   "source": [
    "So many overlaps! We maybe need only a few hundred... maybe 400 random ones?"
   ]
  },
  {
   "cell_type": "code",
   "execution_count": 12,
   "metadata": {},
   "outputs": [
    {
     "data": {
      "text/plain": [
       "400×3 Array{Complex{Float64},2}:\n",
       "  89.0+0.0im   10.0+0.0im   -0.671224+0.741255im\n",
       "  21.0+0.0im  176.0+0.0im    0.916317+0.400453im\n",
       "  83.0+0.0im  113.0+0.0im   -0.483624-0.875276im\n",
       " 103.0+0.0im   71.0+0.0im   -0.641302-0.767289im\n",
       " 106.0+0.0im   51.0+0.0im    0.997792+0.0664138im\n",
       " 117.0+0.0im  193.0+0.0im    0.924435-0.381339im\n",
       "  57.0+0.0im  158.0+0.0im    0.172049-0.985088im\n",
       " 160.0+0.0im  191.0+0.0im    0.965013-0.262202im\n",
       "  53.0+0.0im  151.0+0.0im   -0.960255+0.279123im\n",
       " 114.0+0.0im   51.0+0.0im    0.807242+0.590221im\n",
       "  57.0+0.0im   23.0+0.0im    0.971296+0.237873im\n",
       " 185.0+0.0im  156.0+0.0im   -0.307573-0.951525im\n",
       "  74.0+0.0im   59.0+0.0im   -0.934446+0.356105im\n",
       "      ⋮                    \n",
       "  14.0+0.0im   89.0+0.0im    0.446098-0.894984im\n",
       "  75.0+0.0im   52.0+0.0im  -0.0979432-0.995192im\n",
       "  55.0+0.0im  124.0+0.0im   -0.560489+0.828162im\n",
       " 141.0+0.0im   50.0+0.0im   -0.974086+0.226179im\n",
       "  75.0+0.0im  148.0+0.0im    0.131128+0.991365im\n",
       "  87.0+0.0im   65.0+0.0im     0.45361+0.8912im\n",
       "  64.0+0.0im  185.0+0.0im    0.987058+0.160363im\n",
       " 171.0+0.0im   62.0+0.0im    0.903315+0.428977im\n",
       " 187.0+0.0im  115.0+0.0im   -0.312592+0.949888im\n",
       "  47.0+0.0im  109.0+0.0im   -0.966718-0.255845im\n",
       " 122.0+0.0im   31.0+0.0im     0.96235+0.271812im\n",
       " 183.0+0.0im   75.0+0.0im   -0.547246+0.836972im"
      ]
     },
     "execution_count": 12,
     "metadata": {},
     "output_type": "execute_result"
    }
   ],
   "source": [
    "using Random\n",
    "rng = MersenneTwister(1234);\n",
    "sinds = randperm(length(olps[:,1]))[1:4*d];\n",
    "solps = olps[sinds,:]"
   ]
  },
  {
   "cell_type": "code",
   "execution_count": 17,
   "metadata": {},
   "outputs": [
    {
     "name": "stdout",
     "output_type": "stream",
     "text": [
      "Fid: 7\n",
      "123.967797 seconds (5.73 M allocations: 15.664 GiB, 5.27% gc time)\n",
      "\n",
      "Convergence tests: [3.046753632300795e-11, 1.992018581248255e-11, -7.296430126757514e-11]\n",
      "SIC test: 2.4125201836255883e-10\n",
      "\n",
      "Fid: 8\n",
      " 88.176129 seconds (5.70 M allocations: 15.543 GiB, 5.40% gc time)\n",
      "\n",
      "Convergence tests: [4.404347703355039e-11, 2.0437962721677053e-11, -7.913525390534915e-11]\n",
      "SIC test: 1.9573742626732837e-10\n",
      "\n"
     ]
    }
   ],
   "source": [
    "d = 100;\n",
    "\n",
    "fids = [7,8]\n",
    "# w=zeros(length(fids),d)*(1+im)\n",
    "\n",
    "for fid=fids\n",
    "    olps = readoverlaps(d,fid)\n",
    "    \n",
    "    # choose a random set of 4*d overlaps from the list\n",
    "    sinds = randperm(length(olps[:,1]))[1:4*d];\n",
    "    solps = olps[sinds,:]\n",
    "    \n",
    "    print(\"Fid: \",fid,\"\\n\")\n",
    "    @time M = necromancy(d,solps)\n",
    "    \n",
    "    # M is an approxiamte SIC if this vector is numerically zero\n",
    "    t1 = [norm(M*M-M),norm(M-M'),real(tr(M))-1]\n",
    "    \n",
    "    # If t1 is small, then this line validates that M = v*v' is a WH SIC fiducial.\n",
    "    nv = findmax([ norm(M[x,:]) for x in 1:d])[2]\n",
    "    v = M[nv,:]\n",
    "    t2 = sictest(v)\n",
    "    \n",
    "    writedlm(\"$(pwd())/d100_overlaps/fiducial_d100_fid$(fid).csv\", v)\n",
    "    # w[fid,:] = v\n",
    "    \n",
    "    print(\"\\nConvergence tests: \",t1,\"\\nSIC test: \",t2,\"\\n\\n\")\n",
    "end"
   ]
  },
  {
   "cell_type": "code",
   "execution_count": 91,
   "metadata": {},
   "outputs": [
    {
     "data": {
      "text/plain": [
       "4×100 Array{Complex{Float64},2}:\n",
       "  0.025346+1.73472e-18im  …  -0.0178446+0.00340733im\n",
       " 0.0366846+0.0im              0.0275028-0.00924401im\n",
       " 0.0103479-6.50521e-19im     9.11484e-6-0.00456032im\n",
       " 0.0212559-1.73472e-18im     -0.0125596-0.0123763im"
      ]
     },
     "execution_count": 91,
     "metadata": {},
     "output_type": "execute_result"
    }
   ],
   "source": [
    "Diagonal(exp.(-im*atan.(imag.(w[:,1])./real.(w[:,1]))))*w"
   ]
  },
  {
   "cell_type": "code",
   "execution_count": null,
   "metadata": {},
   "outputs": [],
   "source": [
    "# d = 50;\n",
    "\n",
    "# Things that seem to be SICs: fid = 1, 17, 33, 54, 70, 86\n",
    "\n",
    "for fid=fids\n",
    "    olps = readoverlaps(d,fid)\n",
    "    \n",
    "    print(\"Fid: \",fid,\"\\n\")\n",
    "    @time M = necromancy(d,olps)\n",
    "    \n",
    "    # M is an approxiamte SIC if this vector is numerically zero\n",
    "    t1 = [norm(M*M-M),norm(M-M'),real(tr(M))-1]\n",
    "    \n",
    "    # If t1 is small, then this line validates that M = v*v' is a WH SIC fiducial.\n",
    "    nv = findmax([ norm(M[x,:]) for x in 1:d])[2]\n",
    "    v = M[nv,:]\n",
    "    t2 = sictest(v)\n",
    "    \n",
    "    print(\"\\nConvergence tests: \",t1,\"\\nSIC test: \",t2,\"\\n\\n\")\n",
    "end"
   ]
  },
  {
   "cell_type": "code",
   "execution_count": 9,
   "metadata": {},
   "outputs": [
    {
     "data": {
      "text/plain": [
       "6-element Array{Int64,1}:\n",
       "  1\n",
       " 17\n",
       " 33\n",
       " 54\n",
       " 70\n",
       " 86"
      ]
     },
     "execution_count": 9,
     "metadata": {},
     "output_type": "execute_result"
    }
   ],
   "source": [
    "fids = [1, 17, 33, 54, 70, 86]"
   ]
  },
  {
   "cell_type": "code",
   "execution_count": 10,
   "metadata": {},
   "outputs": [
    {
     "name": "stdout",
     "output_type": "stream",
     "text": [
      "Fid: 1\n",
      "  6.789073 seconds (4.22 M allocations: 3.064 GiB, 14.52% gc time)\n",
      "\n",
      "Convergence tests: [2.5664282334684727e-6, 7.623079418006929e-7, -2.492950777477354e-6]\n",
      "SIC test: 5.201273127641848e-6\n",
      "\n",
      "Fid: 17\n",
      "  6.227351 seconds (4.22 M allocations: 3.064 GiB, 21.06% gc time)\n",
      "\n",
      "Convergence tests: [2.1379809620600693e-6, 7.106784311759002e-7, 1.9644835338450406e-6]\n",
      "SIC test: 6.109531318188033e-6\n",
      "\n",
      "Fid: 33\n",
      "  5.938534 seconds (4.22 M allocations: 3.064 GiB, 11.09% gc time)\n",
      "\n",
      "Convergence tests: [8.213671525018414e-7, 4.300452106906564e-7, -1.0104797081300632e-6]\n",
      "SIC test: 2.958893209781266e-6\n",
      "\n",
      "Fid: 54\n",
      "  4.806342 seconds (4.22 M allocations: 3.064 GiB, 19.72% gc time)\n",
      "\n",
      "Convergence tests: [3.2594374778669763e-6, 5.476078219975302e-6, -2.2909552221950236e-6]\n",
      "SIC test: 8.401962689807974e-6\n",
      "\n",
      "Fid: 70\n",
      "  5.192159 seconds (4.22 M allocations: 3.064 GiB, 18.62% gc time)\n",
      "\n",
      "Convergence tests: [1.577270888797703e-6, 8.343628000084659e-7, 4.230866631926844e-6]\n",
      "SIC test: 3.932731327482841e-6\n",
      "\n",
      "Fid: 86\n",
      "  4.258168 seconds (4.22 M allocations: 3.064 GiB, 17.98% gc time)\n",
      "\n",
      "Convergence tests: [1.000057062871379e-6, 6.321278385659434e-7, 1.6216570877247705e-6]\n",
      "SIC test: 5.5336752827761515e-6\n",
      "\n"
     ]
    }
   ],
   "source": [
    "d = 50;\n",
    "\n",
    "# Things that seem to be SICs: fid = 1, 17, 33, 54, 70, 86\n",
    "\n",
    "for fid=fids\n",
    "    olps = readoverlaps(d,fid)\n",
    "    \n",
    "    print(\"Fid: \",fid,\"\\n\")\n",
    "    @time M = necromancy(d,olps)\n",
    "    \n",
    "    # M is an approxiamte SIC if this vector is numerically zero\n",
    "    t1 = [norm(M*M-M),norm(M-M'),real(tr(M))-1]\n",
    "    \n",
    "    # If t1 is small, then this line validates that M = v*v' is a WH SIC fiducial.\n",
    "    nv = findmax([ norm(M[x,:]) for x in 1:d])[2]\n",
    "    v = M[nv,:]\n",
    "    t2 = sictest(v)\n",
    "    \n",
    "    print(\"\\nConvergence tests: \",t1,\"\\nSIC test: \",t2,\"\\n\\n\")\n",
    "end"
   ]
  },
  {
   "cell_type": "markdown",
   "metadata": {},
   "source": [
    "This is the test for a single fiducial."
   ]
  },
  {
   "cell_type": "code",
   "execution_count": 11,
   "metadata": {},
   "outputs": [
    {
     "name": "stdout",
     "output_type": "stream",
     "text": [
      "  5.718236 seconds (4.22 M allocations: 3.064 GiB, 25.60% gc time)\n"
     ]
    },
    {
     "data": {
      "text/plain": [
       "3-element Array{Float64,1}:\n",
       "  2.5664282334684727e-6\n",
       "  7.623079418006929e-7\n",
       " -2.492950777477354e-6"
      ]
     },
     "execution_count": 11,
     "metadata": {},
     "output_type": "execute_result"
    }
   ],
   "source": [
    "d = 14;  fid = \"B\";\n",
    "\n",
    "d = 50;  fid = 1;\n",
    "\n",
    "olps = readoverlaps(d,fid)\n",
    "\n",
    "@time M = necromancy(d,olps)\n",
    "\n",
    "# M is an approxiamte SIC if this vector is numerically zero\n",
    "[norm(M*M-M),norm(M-M'),real(tr(M))-1]"
   ]
  },
  {
   "cell_type": "code",
   "execution_count": 16,
   "metadata": {},
   "outputs": [
    {
     "data": {
      "text/plain": [
       "1-element Array{Float64,1}:\n",
       " 1.0000000009057561"
      ]
     },
     "execution_count": 16,
     "metadata": {},
     "output_type": "execute_result"
    }
   ],
   "source": [
    "# Which eigenvalues are larger than 1e-8?\n",
    "eigs = real.(eigvals(M))\n",
    "eigs[eigs .> 1e-8]"
   ]
  },
  {
   "cell_type": "markdown",
   "metadata": {},
   "source": [
    "To make the test as stable as possible, pick the row that has the largest norm. "
   ]
  },
  {
   "cell_type": "code",
   "execution_count": 17,
   "metadata": {},
   "outputs": [
    {
     "name": "stdout",
     "output_type": "stream",
     "text": [
      "  0.199584 seconds (931.20 k allocations: 47.128 MiB)\n"
     ]
    },
    {
     "data": {
      "text/plain": [
       "2.873524085345025e-9"
      ]
     },
     "execution_count": 17,
     "metadata": {},
     "output_type": "execute_result"
    }
   ],
   "source": [
    "nv = findmax([ norm(M[x,:]) for x in 1:d])[2]\n",
    "v = M[nv,:]\n",
    "@time sictest(v)"
   ]
  },
  {
   "cell_type": "code",
   "execution_count": 11,
   "metadata": {},
   "outputs": [
    {
     "data": {
      "text/plain": [
       "40-element Array{Complex{Float64},1}:\n",
       " -4.4372829997174044e-11 - 7.1966393862209404e-12im\n",
       "  -4.258890847202729e-11 + 5.50728038642841e-12im  \n",
       "  -3.986726827405734e-11 + 9.572006466797433e-12im \n",
       " -3.5517481299321066e-11 - 1.3711461897190236e-11im\n",
       " -3.1423160015487227e-11 - 6.844268575996989e-12im \n",
       " -2.6546723109753044e-11 + 5.899467927593808e-12im \n",
       " -2.6411139083305816e-11 + 1.538431233624157e-11im \n",
       " -2.5384158067171867e-11 + 2.5271459778702706e-12im\n",
       " -2.4503935259293114e-11 + 2.284628238304129e-11im \n",
       "  -2.110339510906203e-11 - 5.110645781978718e-12im \n",
       " -1.8284290868523563e-11 - 1.971488758856695e-11im \n",
       " -1.6346663576616787e-11 + 2.1482174897273223e-11im\n",
       "  -1.541010836082317e-11 + 1.0500994889193343e-12im\n",
       "                         ⋮                         \n",
       "  1.0151235015922697e-11 + 7.326395959059499e-13im \n",
       "  1.5164944748498485e-11 - 2.3907120789289607e-11im\n",
       "  2.0807943366319867e-11 - 9.671147719954111e-12im \n",
       "  2.9880410316636966e-11 - 3.673944819331072e-12im \n",
       "   3.076668614651613e-11 - 8.35442061339853e-12im  \n",
       "   3.222033741523472e-11 + 1.2654620061470985e-11im\n",
       "  3.6047151329675034e-11 + 6.263477229863305e-13im \n",
       "  4.0953648836152586e-11 + 5.524843635224095e-12im \n",
       "     0.13286951911040443 + 5.9205011593509076e-12im\n",
       "      0.2880794672323307 - 2.227107299869679e-12im \n",
       "      0.2890437613984702 + 4.639467623144962e-12im \n",
       "      0.2900072523009104 - 5.888560403019295e-12im "
      ]
     },
     "execution_count": 11,
     "metadata": {},
     "output_type": "execute_result"
    }
   ],
   "source": [
    "eigs=eigvals(M)"
   ]
  },
  {
   "cell_type": "code",
   "execution_count": 12,
   "metadata": {},
   "outputs": [],
   "source": [
    "sparsify!(x, eps) = x[abs.(x) .< eps] .= zero(eltype(x));"
   ]
  },
  {
   "cell_type": "code",
   "execution_count": 13,
   "metadata": {},
   "outputs": [
    {
     "data": {
      "text/plain": [
       "4-element Array{Float64,1}:\n",
       " 0.13286951911040443\n",
       " 0.2880794672323307 \n",
       " 0.2890437613984702 \n",
       " 0.2900072523009104 "
      ]
     },
     "execution_count": 13,
     "metadata": {},
     "output_type": "execute_result"
    }
   ],
   "source": [
    "sparsify!(eigs,1e-10);\n",
    "real(eigs)[end-3:end]"
   ]
  },
  {
   "cell_type": "markdown",
   "metadata": {
    "heading_collapsed": true
   },
   "source": [
    "## Another approach using permutation matrices (dumb)"
   ]
  },
  {
   "cell_type": "markdown",
   "metadata": {
    "hidden": true
   },
   "source": [
    "Let us consider now the set of *all* the SIC phase overlaps, $\\mathbf{b} = \\{\\mathrm{e}^{i \\theta_{\\mathbf{p}}} : \\mathbf{p}\\in\\mathbb{Z}_d^2\\}$. Let $\\mathcal{A}$ be the map $\\mathcal{A} : \\mathrm{Mat}_{d\\times d}(\\mathbb{C}) \\to \\mathbb{C}^{d^2}$ given by \n",
    "$$\\mathcal{A}(M)_j = \\sqrt{d+1}\\, \\mathrm{Tr}(D^\\dagger_{\\mathbf{p}} M)$$\n",
    "where $D_{\\mathbf{p}}$ is a displacement operator.\n",
    "Now consider the following convex optimization\n",
    "\\begin{align}\n",
    "    \\max_{M,S}\\quad & \\mathrm{Tr}(M) \\\\\n",
    "    \\mathrm{s.t.}\\quad & M\\succeq 0\\\\\n",
    "    & \\mathcal{A}(M) = S \\mathbf{b}\\\\\n",
    "    & S \\ge 0\\\\\n",
    "    & S \\mathbf{1} = \\mathbf{1}\\\\\n",
    "    & S^T \\mathbf{1} = \\mathbf{1}\n",
    "\\end{align}\n",
    "Here the constraints specify that $S$ is a doubly stochastic operator."
   ]
  },
  {
   "cell_type": "code",
   "execution_count": 89,
   "metadata": {
    "hidden": true
   },
   "outputs": [
    {
     "data": {
      "text/plain": [
       "4-element Array{Constraint,1}:\n",
       " >= constraint (affine)\n",
       "├─ real (affine; real)\n",
       "│  └─ 16×16 complex variable (id: 790…269)\n",
       "└─ 0                                                                                               \n",
       " == constraint (affine)\n",
       "├─ imag (affine; real)\n",
       "│  └─ 16×16 complex variable (id: 790…269)\n",
       "└─ 0                                                                                               \n",
       " == constraint (affine)\n",
       "├─ * (affine; complex)\n",
       "│  ├─ 16×16 complex variable (id: 790…269)\n",
       "│  └─ 16-element Array{Float64,1}\n",
       "└─ 16-element Array{Float64,1}                                   \n",
       " == constraint (affine)\n",
       "├─ * (affine; complex)\n",
       "│  ├─ adjoint (affine; complex)\n",
       "│  │  └─ 16×16 complex variable (id: 790…269)\n",
       "│  └─ 16-element Array{Float64,1}\n",
       "└─ 16-element Array{Float64,1}"
      ]
     },
     "execution_count": 89,
     "metadata": {},
     "output_type": "execute_result"
    }
   ],
   "source": [
    "d = 4;  fid = \"a\"\n",
    "psi = fiducial(d,fid)\n",
    "\n",
    "olps = [ overlap(psi,x,z) for x in 1:d for z in 1:d ]\n",
    "\n",
    "M = HermitianSemidefinite(d,d)\n",
    "#S = Variable(d^2,d^2,Positive())\n",
    "#cons = S*ones(d^2) == ones(d^2)\n",
    "#cons += S'*ones(d^2) == ones(d^2)\n",
    "\n",
    "S = ComplexVariable(d^2,d^2)\n",
    "cons = real(S)>=0\n",
    "cons += imag(S)==0\n",
    "cons += S*ones(d^2) == ones(d^2)\n",
    "cons += S'*ones(d^2) == ones(d^2)\n",
    "\n",
    "\n",
    "cons\n",
    "\n",
    "#@time M = necromancy(d,olps)\n",
    "\n",
    "# M is an approxiamte SIC if this vector is numerically zero\n",
    "#[norm(M*M-M),norm(M-M'),real(tr(M))-1,norm(M-psi*psi')]"
   ]
  },
  {
   "cell_type": "code",
   "execution_count": 102,
   "metadata": {
    "hidden": true,
    "scrolled": true
   },
   "outputs": [
    {
     "data": {
      "text/plain": [
       "16-element Array{Convex.MultiplyAtom,1}:\n",
       " * (affine; complex)\n",
       "├─ -1.58114-1.58114im\n",
       "└─ + (affine; complex)\n",
       "   ├─ 0\n",
       "   ├─ * (affine; complex)\n",
       "   │  ├─ 1.0+0.0im\n",
       "   │  └─ index (affine; complex)\n",
       "   │     └─ …\n",
       "   ├─ * (affine; complex)\n",
       "   │  ├─ 6.12323e-17-1.0im\n",
       "   │  └─ index (affine; complex)\n",
       "   │     └─ …\n",
       "   ├─ * (affine; complex)\n",
       "   │  ├─ -1.0-1.22465e-16im\n",
       "   │  └─ index (affine; complex)\n",
       "   │     └─ …\n",
       "   └─ * (affine; complex)\n",
       "      ├─ -1.83697e-16+1.0im\n",
       "      └─ index (affine; complex)\n",
       "         └─ …    \n",
       " * (affine; complex)\n",
       "├─ 4.96507e-16+2.23607im\n",
       "└─ + (affine; complex)\n",
       "   ├─ 0\n",
       "   ├─ * (affine; complex)\n",
       "   │  ├─ 1.0+0.0im\n",
       "   │  └─ index (affine; complex)\n",
       "   │     └─ …\n",
       "   ├─ * (affine; complex)\n",
       "   │  ├─ -1.0-1.22465e-16im\n",
       "   │  └─ index (affine; complex)\n",
       "   │     └─ …\n",
       "   ├─ * (affine; complex)\n",
       "   │  ├─ 1.0+2.44929e-16im\n",
       "   │  └─ index (affine; complex)\n",
       "   │     └─ …\n",
       "   └─ * (affine; complex)\n",
       "      ├─ -1.0-3.67394e-16im\n",
       "      └─ index (affine; complex)\n",
       "         └─ … \n",
       " * (affine; complex)\n",
       "├─ 1.58114-1.58114im\n",
       "└─ + (affine; complex)\n",
       "   ├─ 0\n",
       "   ├─ * (affine; complex)\n",
       "   │  ├─ 1.0+0.0im\n",
       "   │  └─ index (affine; complex)\n",
       "   │     └─ …\n",
       "   ├─ * (affine; complex)\n",
       "   │  ├─ -1.83697e-16+1.0im\n",
       "   │  └─ index (affine; complex)\n",
       "   │     └─ …\n",
       "   ├─ * (affine; complex)\n",
       "   │  ├─ -1.0-3.67394e-16im\n",
       "   │  └─ index (affine; complex)\n",
       "   │     └─ …\n",
       "   └─ * (affine; complex)\n",
       "      ├─ 5.51091e-16-1.0im\n",
       "      └─ index (affine; complex)\n",
       "         └─ …     \n",
       " * (affine; complex)\n",
       "├─ -2.23607+9.93014e-16im\n",
       "└─ + (affine; complex)\n",
       "   ├─ 0\n",
       "   ├─ * (affine; complex)\n",
       "   │  ├─ 1.0+0.0im\n",
       "   │  └─ index (affine; complex)\n",
       "   │     └─ …\n",
       "   ├─ * (affine; complex)\n",
       "   │  ├─ 1.0+2.44929e-16im\n",
       "   │  └─ index (affine; complex)\n",
       "   │     └─ …\n",
       "   ├─ * (affine; complex)\n",
       "   │  ├─ 1.0+4.89859e-16im\n",
       "   │  └─ index (affine; complex)\n",
       "   │     └─ …\n",
       "   └─ * (affine; complex)\n",
       "      ├─ 1.0+7.34788e-16im\n",
       "      └─ index (affine; complex)\n",
       "         └─ …  \n",
       " * (affine; complex)\n",
       "├─ 4.96507e-16+2.23607im\n",
       "└─ + (affine; complex)\n",
       "   ├─ 0\n",
       "   ├─ * (affine; complex)\n",
       "   │  ├─ 1.0+0.0im\n",
       "   │  └─ index (affine; complex)\n",
       "   │     └─ …\n",
       "   ├─ * (affine; complex)\n",
       "   │  ├─ 6.12323e-17-1.0im\n",
       "   │  └─ index (affine; complex)\n",
       "   │     └─ …\n",
       "   ├─ * (affine; complex)\n",
       "   │  ├─ -1.0-1.22465e-16im\n",
       "   │  └─ index (affine; complex)\n",
       "   │     └─ …\n",
       "   └─ * (affine; complex)\n",
       "      ├─ -1.83697e-16+1.0im\n",
       "      └─ index (affine; complex)\n",
       "         └─ … \n",
       " * (affine; complex)\n",
       "├─ -2.23607+9.93014e-16im\n",
       "└─ + (affine; complex)\n",
       "   ├─ 0\n",
       "   ├─ * (affine; complex)\n",
       "   │  ├─ 1.0+0.0im\n",
       "   │  └─ index (affine; complex)\n",
       "   │     └─ …\n",
       "   ├─ * (affine; complex)\n",
       "   │  ├─ -1.0-1.22465e-16im\n",
       "   │  └─ index (affine; complex)\n",
       "   │     └─ …\n",
       "   ├─ * (affine; complex)\n",
       "   │  ├─ 1.0+2.44929e-16im\n",
       "   │  └─ index (affine; complex)\n",
       "   │     └─ …\n",
       "   └─ * (affine; complex)\n",
       "      ├─ -1.0-3.67394e-16im\n",
       "      └─ index (affine; complex)\n",
       "         └─ …\n",
       " * (affine; complex)\n",
       "├─ -1.48952e-15-2.23607im\n",
       "└─ + (affine; complex)\n",
       "   ├─ 0\n",
       "   ├─ * (affine; complex)\n",
       "   │  ├─ 1.0+0.0im\n",
       "   │  └─ index (affine; complex)\n",
       "   │     └─ …\n",
       "   ├─ * (affine; complex)\n",
       "   │  ├─ -1.83697e-16+1.0im\n",
       "   │  └─ index (affine; complex)\n",
       "   │     └─ …\n",
       "   ├─ * (affine; complex)\n",
       "   │  ├─ -1.0-3.67394e-16im\n",
       "   │  └─ index (affine; complex)\n",
       "   │     └─ …\n",
       "   └─ * (affine; complex)\n",
       "      ├─ 5.51091e-16-1.0im\n",
       "      └─ index (affine; complex)\n",
       "         └─ …\n",
       " * (affine; complex)\n",
       "├─ 2.23607-1.98603e-15im\n",
       "└─ + (affine; complex)\n",
       "   ├─ 0\n",
       "   ├─ * (affine; complex)\n",
       "   │  ├─ 1.0+0.0im\n",
       "   │  └─ index (affine; complex)\n",
       "   │     └─ …\n",
       "   ├─ * (affine; complex)\n",
       "   │  ├─ 1.0+2.44929e-16im\n",
       "   │  └─ index (affine; complex)\n",
       "   │     └─ …\n",
       "   ├─ * (affine; complex)\n",
       "   │  ├─ 1.0+4.89859e-16im\n",
       "   │  └─ index (affine; complex)\n",
       "   │     └─ …\n",
       "   └─ * (affine; complex)\n",
       "      ├─ 1.0+7.34788e-16im\n",
       "      └─ index (affine; complex)\n",
       "         └─ …   \n",
       " * (affine; complex)\n",
       "├─ 1.58114-1.58114im\n",
       "└─ + (affine; complex)\n",
       "   ├─ 0\n",
       "   ├─ * (affine; complex)\n",
       "   │  ├─ 1.0+0.0im\n",
       "   │  └─ index (affine; complex)\n",
       "   │     └─ …\n",
       "   ├─ * (affine; complex)\n",
       "   │  ├─ 6.12323e-17-1.0im\n",
       "   │  └─ index (affine; complex)\n",
       "   │     └─ …\n",
       "   ├─ * (affine; complex)\n",
       "   │  ├─ -1.0-1.22465e-16im\n",
       "   │  └─ index (affine; complex)\n",
       "   │     └─ …\n",
       "   └─ * (affine; complex)\n",
       "      ├─ -1.83697e-16+1.0im\n",
       "      └─ index (affine; complex)\n",
       "         └─ …     \n",
       " * (affine; complex)\n",
       "├─ -1.48952e-15-2.23607im\n",
       "└─ + (affine; complex)\n",
       "   ├─ 0\n",
       "   ├─ * (affine; complex)\n",
       "   │  ├─ 1.0+0.0im\n",
       "   │  └─ index (affine; complex)\n",
       "   │     └─ …\n",
       "   ├─ * (affine; complex)\n",
       "   │  ├─ -1.0-1.22465e-16im\n",
       "   │  └─ index (affine; complex)\n",
       "   │     └─ …\n",
       "   ├─ * (affine; complex)\n",
       "   │  ├─ 1.0+2.44929e-16im\n",
       "   │  └─ index (affine; complex)\n",
       "   │     └─ …\n",
       "   └─ * (affine; complex)\n",
       "      ├─ -1.0-3.67394e-16im\n",
       "      └─ index (affine; complex)\n",
       "         └─ …\n",
       " * (affine; complex)\n",
       "├─ -1.58114-1.58114im\n",
       "└─ + (affine; complex)\n",
       "   ├─ 0\n",
       "   ├─ * (affine; complex)\n",
       "   │  ├─ 1.0+0.0im\n",
       "   │  └─ index (affine; complex)\n",
       "   │     └─ …\n",
       "   ├─ * (affine; complex)\n",
       "   │  ├─ -1.83697e-16+1.0im\n",
       "   │  └─ index (affine; complex)\n",
       "   │     └─ …\n",
       "   ├─ * (affine; complex)\n",
       "   │  ├─ -1.0-3.67394e-16im\n",
       "   │  └─ index (affine; complex)\n",
       "   │     └─ …\n",
       "   └─ * (affine; complex)\n",
       "      ├─ 5.51091e-16-1.0im\n",
       "      └─ index (affine; complex)\n",
       "         └─ …    \n",
       " * (affine; complex)\n",
       "├─ -2.23607+2.97904e-15im\n",
       "└─ + (affine; complex)\n",
       "   ├─ 0\n",
       "   ├─ * (affine; complex)\n",
       "   │  ├─ 1.0+0.0im\n",
       "   │  └─ index (affine; complex)\n",
       "   │     └─ …\n",
       "   ├─ * (affine; complex)\n",
       "   │  ├─ 1.0+2.44929e-16im\n",
       "   │  └─ index (affine; complex)\n",
       "   │     └─ …\n",
       "   ├─ * (affine; complex)\n",
       "   │  ├─ 1.0+4.89859e-16im\n",
       "   │  └─ index (affine; complex)\n",
       "   │     └─ …\n",
       "   └─ * (affine; complex)\n",
       "      ├─ 1.0+7.34788e-16im\n",
       "      └─ index (affine; complex)\n",
       "         └─ …  \n",
       " * (affine; complex)\n",
       "├─ -2.23607+9.93014e-16im\n",
       "└─ + (affine; complex)\n",
       "   ├─ 0\n",
       "   ├─ * (affine; complex)\n",
       "   │  ├─ 1.0+0.0im\n",
       "   │  └─ index (affine; complex)\n",
       "   │     └─ …\n",
       "   ├─ * (affine; complex)\n",
       "   │  ├─ 6.12323e-17-1.0im\n",
       "   │  └─ index (affine; complex)\n",
       "   │     └─ …\n",
       "   ├─ * (affine; complex)\n",
       "   │  ├─ -1.0-1.22465e-16im\n",
       "   │  └─ index (affine; complex)\n",
       "   │     └─ …\n",
       "   └─ * (affine; complex)\n",
       "      ├─ -1.83697e-16+1.0im\n",
       "      └─ index (affine; complex)\n",
       "         └─ …\n",
       " * (affine; complex)\n",
       "├─ 2.23607-1.98603e-15im\n",
       "└─ + (affine; complex)\n",
       "   ├─ 0\n",
       "   ├─ * (affine; complex)\n",
       "   │  ├─ 1.0+0.0im\n",
       "   │  └─ index (affine; complex)\n",
       "   │     └─ …\n",
       "   ├─ * (affine; complex)\n",
       "   │  ├─ -1.0-1.22465e-16im\n",
       "   │  └─ index (affine; complex)\n",
       "   │     └─ …\n",
       "   ├─ * (affine; complex)\n",
       "   │  ├─ 1.0+2.44929e-16im\n",
       "   │  └─ index (affine; complex)\n",
       "   │     └─ …\n",
       "   └─ * (affine; complex)\n",
       "      ├─ -1.0-3.67394e-16im\n",
       "      └─ index (affine; complex)\n",
       "         └─ … \n",
       " * (affine; complex)\n",
       "├─ -2.23607+2.97904e-15im\n",
       "└─ + (affine; complex)\n",
       "   ├─ 0\n",
       "   ├─ * (affine; complex)\n",
       "   │  ├─ 1.0+0.0im\n",
       "   │  └─ index (affine; complex)\n",
       "   │     └─ …\n",
       "   ├─ * (affine; complex)\n",
       "   │  ├─ -1.83697e-16+1.0im\n",
       "   │  └─ index (affine; complex)\n",
       "   │     └─ …\n",
       "   ├─ * (affine; complex)\n",
       "   │  ├─ -1.0-3.67394e-16im\n",
       "   │  └─ index (affine; complex)\n",
       "   │     └─ …\n",
       "   └─ * (affine; complex)\n",
       "      ├─ 5.51091e-16-1.0im\n",
       "      └─ index (affine; complex)\n",
       "         └─ …\n",
       " * (affine; complex)\n",
       "├─ 2.23607-3.97205e-15im\n",
       "└─ + (affine; complex)\n",
       "   ├─ 0\n",
       "   ├─ * (affine; complex)\n",
       "   │  ├─ 1.0+0.0im\n",
       "   │  └─ index (affine; complex)\n",
       "   │     └─ …\n",
       "   ├─ * (affine; complex)\n",
       "   │  ├─ 1.0+2.44929e-16im\n",
       "   │  └─ index (affine; complex)\n",
       "   │     └─ …\n",
       "   ├─ * (affine; complex)\n",
       "   │  ├─ 1.0+4.89859e-16im\n",
       "   │  └─ index (affine; complex)\n",
       "   │     └─ …\n",
       "   └─ * (affine; complex)\n",
       "      ├─ 1.0+7.34788e-16im\n",
       "      └─ index (affine; complex)\n",
       "         └─ …   "
      ]
     },
     "execution_count": 102,
     "metadata": {},
     "output_type": "execute_result"
    }
   ],
   "source": [
    "S*olps\n",
    "[ overlap(M,x,z) for x in 1:d for z in 1:d ]\n"
   ]
  },
  {
   "cell_type": "raw",
   "metadata": {
    "hidden": true
   },
   "source": [
    "function Alaps(M)\n",
    "    d = size(M)[1]\n",
    "    b = [ overlap(M,x,z) for x in 1:d for z in 1:d ]\n",
    "end\n",
    "\n",
    "olps = [ overlap(psi,x,z) for x in 1:d for z in 1:d ]"
   ]
  },
  {
   "cell_type": "code",
   "execution_count": 52,
   "metadata": {
    "hidden": true
   },
   "outputs": [
    {
     "data": {
      "text/plain": [
       "reanimation (generic function with 1 method)"
      ]
     },
     "execution_count": 52,
     "metadata": {},
     "output_type": "execute_result"
    }
   ],
   "source": [
    "function reanimation(d,olps)\n",
    "    M = HermitianSemidefinite(d,d)\n",
    "    S = Variable(d^2,d^2, Positive())\n",
    "    cons = S*ones(d^2) == ones(d^2)\n",
    "    cons += S'*ones(d^2) == ones(d^2)\n",
    "    cons += Alaps(M) == S*olps\n",
    "    obj = real(tr(M))\n",
    "    prob = minimize(obj,cons)\n",
    "    solve!(prob, SCSSolver(verbose=1,eps=1.0e-8,max_iters=1e4))\n",
    "    return evaluate(M)\n",
    "end"
   ]
  },
  {
   "cell_type": "code",
   "execution_count": 53,
   "metadata": {
    "hidden": true
   },
   "outputs": [
    {
     "ename": "MethodError",
     "evalue": "MethodError: no method matching ispos(::Array{Convex.MultiplyAtom,1})\nClosest candidates are:\n  ispos(!Matched::Real) at /Users/sflammia/.julia/packages/Convex/NBqGs/src/constant.jl:8\n  ispos(!Matched::Union{AbstractArray{#s27,1}, AbstractArray{#s27,2}} where #s27<:Real) at /Users/sflammia/.julia/packages/Convex/NBqGs/src/constant.jl:9",
     "output_type": "error",
     "traceback": [
      "MethodError: no method matching ispos(::Array{Convex.MultiplyAtom,1})\nClosest candidates are:\n  ispos(!Matched::Real) at /Users/sflammia/.julia/packages/Convex/NBqGs/src/constant.jl:8\n  ispos(!Matched::Union{AbstractArray{#s27,1}, AbstractArray{#s27,2}} where #s27<:Real) at /Users/sflammia/.julia/packages/Convex/NBqGs/src/constant.jl:9",
      "",
      "Stacktrace:",
      " [1] _sign(::Array{Convex.MultiplyAtom,1}) at /Users/sflammia/.julia/packages/Convex/NBqGs/src/constant.jl:19",
      " [2] Constant(::Array{Convex.MultiplyAtom,1}, ::Bool) at /Users/sflammia/.julia/packages/Convex/NBqGs/src/constant.jl:36 (repeats 2 times)",
      " [3] ==(::Array{Convex.MultiplyAtom,1}, ::Convex.MultiplyAtom) at /Users/sflammia/.julia/packages/Convex/NBqGs/src/constraints/constraints.jl:59",
      " [4] reanimation(::Int64, ::Array{Complex{Float64},1}) at ./In[52]:6",
      " [5] top-level scope at In[53]:1"
     ]
    }
   ],
   "source": [
    "reanimation(4,olps)"
   ]
  },
  {
   "cell_type": "code",
   "execution_count": 68,
   "metadata": {
    "hidden": true
   },
   "outputs": [
    {
     "data": {
      "text/plain": [
       "Variable\n",
       "size: (3, 3)\n",
       "sign: positive\n",
       "vexity: affine\n",
       "id: 126…249"
      ]
     },
     "execution_count": 68,
     "metadata": {},
     "output_type": "execute_result"
    }
   ],
   "source": [
    "S>=0\n",
    "T=Variable(3,3,Positive())"
   ]
  },
  {
   "cell_type": "code",
   "execution_count": 66,
   "metadata": {
    "hidden": true
   },
   "outputs": [
    {
     "data": {
      "text/plain": [
       ">= constraint (affine)\n",
       "├─ real (affine; real)\n",
       "│  └─ 3×3 complex variable (id: 131…774)\n",
       "└─ 0"
      ]
     },
     "execution_count": 66,
     "metadata": {},
     "output_type": "execute_result"
    }
   ],
   "source": [
    "imag(T)==0\n",
    "real(T)>=0"
   ]
  },
  {
   "cell_type": "code",
   "execution_count": 69,
   "metadata": {
    "hidden": true
   },
   "outputs": [
    {
     "data": {
      "text/plain": [
       "* (affine; positive)\n",
       "├─ 3×3 positive variable (id: 126…249)\n",
       "└─ [1.0, 1.0, 1.0]"
      ]
     },
     "execution_count": 69,
     "metadata": {},
     "output_type": "execute_result"
    }
   ],
   "source": [
    "T*ones(3)"
   ]
  },
  {
   "cell_type": "code",
   "execution_count": 97,
   "metadata": {
    "hidden": true
   },
   "outputs": [
    {
     "ename": "UndefVarError",
     "evalue": "UndefVarError: x not defined",
     "output_type": "error",
     "traceback": [
      "UndefVarError: x not defined",
      "",
      "Stacktrace:",
      " [1] top-level scope at In[97]:2"
     ]
    }
   ],
   "source": [
    "τ = -exp(pi*im/d)\n",
    "\n",
    "sqrt(d+1)*τ^(x*z)*sum(exp(2*pi*im*(-j*z)/d) * M[j+1,mod(j-x,dd)+1] for dd=0:d-1)\n",
    "\n",
    "[ sqrt(d+1)*(-exp(pi*im*x*z/d)) * sum(exp(2*pi*im*(-j*z)/d) * M[j+1,mod(j-x,d)+1] for j=0:d-1) for x in 1:d for z in 1:d ]"
   ]
  },
  {
   "cell_type": "markdown",
   "metadata": {},
   "source": [
    "# Temp"
   ]
  },
  {
   "cell_type": "markdown",
   "metadata": {},
   "source": [
    "The following $\\delta$-notation for the \"half-theta product\" or q-Pochhammer symbol is introduced in Kopp2020d.\n",
    "\n",
    "Define the function\n",
    "$$\n",
    "\\delta(z;\\tau) = E_{e(\\tau)}(e(z)) = \\prod_{j=0}^\\infty \\left(1-e(z+j\\tau)\\right).\n",
    "$$\n",
    "\n",
    "The \"signed\" conjecture may be rephrased as follows, using the alternative expression for the class invariants introduced in Kopp2020d.\n",
    "\n",
    "Let $d>3$ be a positive integer, and let $\\Delta = (d+1)(d-3)$ and $\\varepsilon = \\frac{d-1+\\sqrt{\\Delta}}{2}$.\n",
    "Let $Q$ be a (not necessarily primative) binary quadratic form of discriminant $\\Delta$.\n",
    "Let $\\omega_Q^- < \\omega_Q^+$ be the roots of $Q(\\omega,1)=0$, and let $\\ell = \\ell_+ - \\ell_-$ be the difference between the lengths of the Hirzebruch-Jung continued fraction expansions of $\\omega_Q^+$ and $\\omega_Q^-$, respectively.  \n",
    "Let $G$ be a generator for the stabaliser of $Q$ under the action of $\\Gamma(d)$ so that $\\lim_{t \\to \\pm \\infty} Q^t\\tau = \\omega_Q^{\\pm}$ respectively for all $\\tau \\in \\mathcal{H}$.\n",
    "For $\\tau \\in \\mathcal{H}$, define the function\n",
    "$$\n",
    "\\kappa_{m,n}(t) = -\\zeta_8^{\\ell} \\exp\\left(\\frac{(d^2-1)\\pi i\\mathrm{Norm}(m+n\\omega)}{d}\\right) \\frac{\\delta\\left(\\frac{m+nG^{t+1}\\tau}{d}, G\\tau\\right)}{\\delta\\left(\\frac{m+n\\tau}{d}, \\tau\\right)}.\n",
    "$$\n",
    "Now, for $0 \\leq m,n < d$, set\n",
    "$$\n",
    "\\nu_{m,n} = \\left\\{\\begin{array}{ll}\n",
    "1, &\\mbox{ if } m=n=0; \\\\\n",
    "\\lim_{\\tau \\to \\omega_Q^+} \\frac{1}{\\sqrt{d+1}}\\kappa_{m,n}(\\tau), &\\mbox{ otherwise}.\n",
    "\\end{array}\\right.\n",
    "$$\n",
    "Then, the $\\nu_{m,n}$ are ghost SIC overlaps in dimension $d$. In particular, the $\\nu_{m,n}$ are real, and the matrix\n",
    "$$\n",
    "M = \\frac{1}{d}\\sum_{m,n} \\nu_{m,n} D_{m,n}^\\dagger\n",
    "$$\n",
    "is a rank 1 idempotent."
   ]
  },
  {
   "cell_type": "code",
   "execution_count": 25,
   "metadata": {},
   "outputs": [
    {
     "data": {
      "text/plain": [
       "32"
      ]
     },
     "execution_count": 25,
     "metadata": {},
     "output_type": "execute_result"
    }
   ],
   "source": [
    "d=7\n",
    "Δ=(d+1)*(d-3)\n",
    "𝜖=(d-1+sqrt(Δ))/2\n",
    "a=1\n",
    "b=mod(Δ,2)\n",
    "c=Int((mod(Δ,2)-Δ)/4)\n",
    "Q=[[a,b/2],[b/2,c]]\n",
    "disc=b^2-4*a*c"
   ]
  },
  {
   "cell_type": "code",
   "execution_count": 26,
   "metadata": {},
   "outputs": [
    {
     "data": {
      "text/plain": [
       "2-element Array{Array{Float64,1},1}:\n",
       " [1.0, 0.0]\n",
       " [0.0, -8.0]"
      ]
     },
     "execution_count": 26,
     "metadata": {},
     "output_type": "execute_result"
    }
   ],
   "source": [
    "Q"
   ]
  },
  {
   "cell_type": "code",
   "execution_count": 20,
   "metadata": {},
   "outputs": [
    {
     "ename": "UndefVarError",
     "evalue": "UndefVarError: w not defined",
     "output_type": "error",
     "traceback": [
      "UndefVarError: w not defined",
      "",
      "Stacktrace:",
      " [1] top-level scope at In[20]:1"
     ]
    }
   ],
   "source": [
    "Q*[w,1]"
   ]
  },
  {
   "cell_type": "code",
   "execution_count": 37,
   "metadata": {},
   "outputs": [
    {
     "data": {
      "text/plain": [
       "0.20710678118620618"
      ]
     },
     "execution_count": 37,
     "metadata": {},
     "output_type": "execute_result"
    }
   ],
   "source": [
    "1/(1/(1/(1/(1/(sqrt(8)-2)-1)-4)-1)-4)-1"
   ]
  },
  {
   "cell_type": "code",
   "execution_count": 51,
   "metadata": {},
   "outputs": [
    {
     "data": {
      "text/plain": [
       "1.207106781174952"
      ]
     },
     "execution_count": 51,
     "metadata": {},
     "output_type": "execute_result"
    }
   ],
   "source": [
    "1/(1/(1/(1/(1/(1/(-sqrt(8)+3)-5)-1)-4)-1)-4)"
   ]
  },
  {
   "cell_type": "code",
   "execution_count": null,
   "metadata": {},
   "outputs": [],
   "source": [
    "sqrt(8)\n",
    "meyerl=0"
   ]
  }
 ],
 "metadata": {
  "kernelspec": {
   "display_name": "Julia 1.10.0",
   "language": "julia",
   "name": "julia-1.10"
  },
  "language_info": {
   "file_extension": ".jl",
   "mimetype": "application/julia",
   "name": "julia",
   "version": "1.10.0"
  }
 },
 "nbformat": 4,
 "nbformat_minor": 4
}
