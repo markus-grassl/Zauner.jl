{
 "cells": [
  {
   "cell_type": "markdown",
   "id": "eeb54623-ba8b-46db-b876-ea5874a002c6",
   "metadata": {},
   "source": [
    "# Constructing ghosts"
   ]
  },
  {
   "cell_type": "markdown",
   "id": "29f8b52c-1600-4bef-9d14-f592730f6274",
   "metadata": {},
   "source": [
    "The purpose of this notebook is to provide a general algorithm for constructing ghosts assuming the Stark conjectures and the twisted convolution identity. We focus (for now) on the case of rank 1 ghosts. We also leave necromancy for future work. \n",
    "\n",
    "This also serves as a test of the software package Zauner.gp. \n",
    "\n",
    "To load PARI/GP togeher with the Jupyter kernel that powers this notebook, use Conda and type\n",
    "\n",
    "`conda install pari_jupyter -c conda-forge`\n",
    "\n",
    "As of this writing, this should install PARI/GP version 2.13.3 into your current virtual environment together with the Jupyter kernel. "
   ]
  },
  {
   "cell_type": "code",
   "execution_count": 1,
   "id": "9913b5f5-70e6-4629-9169-9bfcd0c52ec8",
   "metadata": {},
   "outputs": [
    {
     "data": {
      "text/plain": [
       "2"
      ]
     },
     "execution_count": 1,
     "metadata": {},
     "output_type": "execute_result"
    }
   ],
   "source": [
    "1+1"
   ]
  },
  {
   "cell_type": "code",
   "execution_count": 1,
   "id": "5af1ccba-8d79-4a36-b412-fe0613c8aa90",
   "metadata": {},
   "outputs": [
    {
     "name": "stdout",
     "output_type": "stream",
     "text": [
      "Zauner.gp  v0.0.1\n"
     ]
    }
   ],
   "source": [
    "read(\"../src/Zauner.gp\")"
   ]
  },
  {
   "cell_type": "markdown",
   "id": "ec1f806e-f74a-4416-ade3-dbcffc318a71",
   "metadata": {},
   "source": [
    "What defines a ghost to begin with? \n",
    "Conjecturally, a ghost can be specified by:\n",
    "- An integer $d > 3$. This is the dimension of the underlying complex vector space, $\\mathbb{C}^d$. \n",
    "- A quadratic form $Q$ of discriminant $\\Delta := f^2 \\Delta_0$ where $\\Delta \\big\\vert (d+1)(d-3)$ and $\\Delta_0$ is a fundamental discriminant. \n",
    "\n",
    "_Remark:_ While the ghost formula depends explicitly on $Q$, different $Q$ in the same class give ghosts on the same extended Clifford orbit. \n",
    "Therefore, we can choose $Q$ to be a reduced form wlog. \n",
    "This choice is motivated by the fact that non-reduced forms require greater computational resources in general.\n",
    "\n",
    "_Remark:_ To define a SIC, we would also (conjecturally) need to specify a sign-switching Galois automorphism $g(\\Delta_0) = -\\Delta_0$. \n",
    "This could be specified by an explicit choice of minimal polynomial for the field containing the ghost as well as an interval containing a root. \n",
    "\n",
    "Because we need quadratic forms of a given discriminant, it is germane to list all forms of a fixed discriminant, so let's start with that. "
   ]
  },
  {
   "cell_type": "code",
   "execution_count": 2,
   "id": "c4139570-c308-4902-80a1-82c5394c6bda",
   "metadata": {},
   "outputs": [
    {
     "name": "stdout",
     "output_type": "stream",
     "text": [
      "\n",
      "d = 4, Δ = 5\n",
      "f = [1]\n",
      "Conductor fq = 1\n",
      "Q basis = [[Qfb(1, 1, -1, 0.E-38)], [1], 1]\n",
      "Q = Qfb(1, 1, -1, 0.E-38)\n",
      "A = psl2word([1, 3, 3, 2])\n",
      "\n"
     ]
    }
   ],
   "source": [
    "d = 4;\n",
    "[Delta0,f] = D0(d);\n",
    "allf = divisors(f);\n",
    "\n",
    "fq = allf[1]; \\\\ a divisor of f.\n",
    "[qb,p,c] = ghostbasis(d,fq^2*Delta0);\n",
    "\n",
    "Q = qb[1]^1;\n",
    "\n",
    "L = stabilizer(Q);\n",
    "a = stabilizersl2order(L,d);\n",
    "A = L^a;\n",
    "\n",
    "{\n",
    "    my(a,b,c);\n",
    "    [a,b,c] = Vec(Q);\n",
    "    w = quadgen(b^2-4*a*c,'w); \\\\ quadratic generator for disc_Q\n",
    "    beta = (-b+2*w-(b^2%4))/(2*a) \\\\ a positive root of Q\n",
    "}\n",
    "\n",
    "\n",
    "print(\"\\nd = \", d, \", Δ = \", Delta0,\"\\nf = \", allf, \"\\nConductor fq = \", fq, \"\\nQ basis = \", [qb,p,c], \"\\nQ = \", Q, \"\\nA = psl2word(\", psl2word(A), \")\\n\");\n"
   ]
  },
  {
   "cell_type": "code",
   "execution_count": 13,
   "id": "0ae99a43-0c9c-41a8-bea3-b5c390818f58",
   "metadata": {},
   "outputs": [
    {
     "name": "stdout",
     "output_type": "stream",
     "text": [
      "time = 1 ms"
     ]
    }
   ],
   "source": [
    "allsics(d) = {\n",
    "    my( Delta0, f, qb, p, c, r, Q = List());\n",
    "\n",
    "    [Delta0,f] = D0(d);\n",
    "    f = divisors(f);\n",
    "    \n",
    "    for( j=1, #f,\n",
    "        [qb, p, c] = ghostbasis(d,f[j]^2*Delta0);\n",
    "        for( k=0, c-1,  \n",
    "            r = radix(k,p);\n",
    "            listput(Q,prod( n=1, #r, qb[n]^(r[n]) ) );\n",
    "        );\n",
    "    );\n",
    "    Vec(Q)\n",
    "}\n",
    "\n",
    "qdata(Q,d) = {\n",
    "    my(L, A, a, b, c);\n",
    "\n",
    "    L = stabilizer(Q);\n",
    "    a = stabilizersl2order(L,d);\n",
    "    A = L^a;\n",
    "\n",
    "    [a,b,c] = Vec(Q);\n",
    "    w = quadgen(b^2-4*a*c,'w); \\\\ quadratic generator for disc_Q\n",
    "    beta = (-b+2*w-(b^2%4))/(2*a); \\\\ a positive root of Q\n",
    "    [A,beta]\n",
    "}\n",
    "\n",
    "ghostunittest(dmin,dmax,eps=1E-16) = \n",
    "{\n",
    "    my(t = 0, QQ, A, beta, allnu, G, d=dmin, projtest);\n",
    "    \n",
    "    while( (d <= dmax) && (t < eps), \n",
    "        QQ = allsics(d);\n",
    "        print(\"Checking \",#QQ,\" cases for d = \",d,\".\");\n",
    "        for( j=1, #QQ, \n",
    "            Q = QQ[1];\n",
    "            [A,beta] = qdata(Q,d);\n",
    "            allnu = matrix(d,d,p1,p2, nu(A,d,[p1-1,p2-1],beta,[0,0]) );\n",
    "            G = sum(p1=0,d-1, sum(p2=0,d-1, allnu[p1+1,p2+1]*WH(p1,p2,d) ));\n",
    "            projtest = G^2-d*G;\n",
    "            t = sqrt(norml2(projtest))/d^2;\n",
    "            print(t);\n",
    "        );\n",
    "        d = d+1;\n",
    "    );\n",
    "}"
   ]
  },
  {
   "cell_type": "code",
   "execution_count": 13,
   "id": "d2e1f305-8613-48df-b25f-841de6f9f74d",
   "metadata": {},
   "outputs": [
    {
     "name": "stdout",
     "output_type": "stream",
     "text": [
      "Checking 2 cases for d = 9.\n",
      "1.2323313216367722520 E-20\n",
      "1.2323313216367722520 E-20\n",
      "Checking 1 cases for d = 10.\n",
      "2.860066709939282734 E-19\n",
      "Checking 3 cases for d = 11.\n",
      "3.509488860386916639 E-20\n",
      "3.509488860386916639 E-20\n",
      "3.509488860386916639 E-20\n",
      "time = 2min, 38,719 ms"
     ]
    }
   ],
   "source": [
    "ghostunittest(4,10)"
   ]
  },
  {
   "cell_type": "code",
   "execution_count": null,
   "id": "bec25831-f4d1-4874-83bc-0318bb91e4d0",
   "metadata": {},
   "outputs": [],
   "source": []
  },
  {
   "cell_type": "code",
   "execution_count": null,
   "id": "2dcfca89-e7c5-4dca-b318-0aef743a1f3d",
   "metadata": {},
   "outputs": [],
   "source": []
  },
  {
   "cell_type": "code",
   "execution_count": null,
   "id": "4bdbe3fe-b4b9-46c9-b014-0bd0abd3e709",
   "metadata": {},
   "outputs": [],
   "source": []
  },
  {
   "cell_type": "code",
   "execution_count": null,
   "id": "50bbc808-b5c7-4fbb-8a14-522bf5c6093d",
   "metadata": {},
   "outputs": [],
   "source": []
  },
  {
   "cell_type": "code",
   "execution_count": null,
   "id": "e80c16a3-b0c1-444a-8f88-da58f4990b8d",
   "metadata": {},
   "outputs": [],
   "source": []
  },
  {
   "cell_type": "code",
   "execution_count": null,
   "id": "4c91ba0a-9de9-4e92-8911-cd2105ac2a39",
   "metadata": {},
   "outputs": [],
   "source": []
  },
  {
   "cell_type": "code",
   "execution_count": null,
   "id": "5836a6d1-c396-455b-b1cb-c2a090fcda39",
   "metadata": {},
   "outputs": [],
   "source": []
  },
  {
   "cell_type": "code",
   "execution_count": null,
   "id": "0bc2cc55-9ab0-476b-9868-63087970d20c",
   "metadata": {},
   "outputs": [],
   "source": []
  },
  {
   "cell_type": "code",
   "execution_count": 6,
   "id": "1ee81614-1dec-4fe6-90a9-81dffe4f91b3",
   "metadata": {},
   "outputs": [
    {
     "name": "stdout",
     "output_type": "stream",
     "text": [
      "Checking 1 cases for d = 6.\n",
      "3.363991524326761769 E-25\n"
     ]
    },
    {
     "data": {
      "text/plain": [
       "7"
      ]
     },
     "execution_count": 6,
     "metadata": {},
     "output_type": "execute_result"
    },
    {
     "name": "stdout",
     "output_type": "stream",
     "text": [
      "time = 5,953 ms"
     ]
    }
   ],
   "source": [
    "\\\\d = 4;\n",
    "QQ = allsics(d);\n",
    "print(\"Checking \",#QQ,\" cases for d = \",d,\".\");\n",
    "for( j=1, #QQ, {\n",
    "    Q = QQ[1];\n",
    "    [A,beta] = qdata(Q,d);\n",
    "    allnu = matrix(d,d,p1,p2, nu(A,d,[p1-1,p2-1],beta,[0,0]) );\n",
    "    G = sum(p1=0,d-1, sum(p2=0,d-1, allnu[p1+1,p2+1]*WH(p1,p2,d) ));\n",
    "    projtest = G^2-d*G;\n",
    "    print(sqrt(norml2(projtest))/d^2);\n",
    "});\n",
    "d = d+1"
   ]
  },
  {
   "cell_type": "code",
   "execution_count": 51,
   "id": "18e05e9a-22c2-44a5-b23f-e030c871c78d",
   "metadata": {},
   "outputs": [
    {
     "name": "stdout",
     "output_type": "stream",
     "text": [
      "time = 43,473 ms"
     ]
    },
    {
     "data": {
      "text/plain": [
       "1.2330802691730499100455052965036529482 E-24"
      ]
     },
     "execution_count": 51,
     "metadata": {},
     "output_type": "execute_result"
    }
   ],
   "source": [
    "allnu = matrix(d,d,p1,p2, nu(A,d,[p1-1,p2-1],beta,[0,0]) );\n",
    "G = sum(p1=0,d-1, sum(p2=0,d-1, allnu[p1+1,p2+1]*WH(p1,p2,d) ));\n",
    "projtest = G^2-d*G;\n",
    "norml2(projtest)\n"
   ]
  },
  {
   "cell_type": "code",
   "execution_count": 106,
   "id": "2fbad139-c6cc-4463-89d9-c65496a703e8",
   "metadata": {},
   "outputs": [
    {
     "data": {
      "text/plain": [
       "11"
      ]
     },
     "execution_count": 106,
     "metadata": {},
     "output_type": "execute_result"
    },
    {
     "name": "stdout",
     "output_type": "stream",
     "text": [
      "time = 1,537 ms"
     ]
    }
   ],
   "source": [
    "vecmax(vector(100000,k,towerh(k+3)))"
   ]
  },
  {
   "cell_type": "code",
   "execution_count": 156,
   "id": "2e3a311a-0a49-4991-8dc6-0a7bb2e0595a",
   "metadata": {},
   "outputs": [
    {
     "data": {
      "text/plain": [
       "[0, 1385331749802026, -799821658665135]~"
      ]
     },
     "execution_count": 156,
     "metadata": {},
     "output_type": "execute_result"
    }
   ],
   "source": [
    "lindep([G[2,3],1,sqrt(3)])"
   ]
  },
  {
   "cell_type": "code",
   "execution_count": 108,
   "id": "45573661-f3d1-405c-91e9-3774c0305beb",
   "metadata": {},
   "outputs": [
    {
     "data": {
      "text/plain": [
       "(v)->1"
      ]
     },
     "execution_count": 108,
     "metadata": {},
     "output_type": "execute_result"
    }
   ],
   "source": []
  },
  {
   "cell_type": "code",
   "execution_count": 111,
   "id": "b9897323-7b95-43f8-8b37-4029a73ca681",
   "metadata": {},
   "outputs": [
    {
     "data": {
      "text/plain": [
       "Qfb(1, 1, -1, 0.E-38)"
      ]
     },
     "execution_count": 111,
     "metadata": {},
     "output_type": "execute_result"
    }
   ],
   "source": [
    "v.rs"
   ]
  },
  {
   "cell_type": "code",
   "execution_count": 109,
   "id": "7a4253f0-92b4-4274-a612-aab00909b395",
   "metadata": {},
   "outputs": [
    {
     "data": {
      "text/plain": [
       "(v)->Qfb(1,1,-1)"
      ]
     },
     "execution_count": 109,
     "metadata": {},
     "output_type": "execute_result"
    }
   ],
   "source": [
    "v.rs = Qfb(1,1,-1)"
   ]
  },
  {
   "cell_type": "code",
   "execution_count": 18,
   "id": "be465b72-338f-400a-bc24-d141e521577a",
   "metadata": {},
   "outputs": [
    {
     "name": "stdout",
     "output_type": "stream",
     "text": [
      "\u001b[1mquadclassunit(D,{\u001b[4mflag\u001b[m = 0},{\u001b[4mtech\u001b[m = []}):\u001b[m\n",
      "\n",
      "\u001b[m   Buchmann-McCurley's  sub-exponential algorithm for computing the class group\n",
      "of a quadratic order of discriminant D.\n",
      "\n",
      "\u001b[m   This function should be used instead of \u001b[1mqfbclassno\u001b[m or \u001b[1mquadregulator\u001b[m when D <\n",
      "-10^{25}, D > 10^{10}, or when the \u001b[4mstructure\u001b[m is wanted. It is a special case of\n",
      "\u001b[1mbnfinit\u001b[m, which is slower, but more robust.\n",
      "\n",
      "\u001b[m   The  result  is  a vector v whose components should be accessed using member\n",
      "functions:\n",
      "\n",
      "\u001b[m\u001b[1m*\u001b[m \u001b[1mv.no\u001b[m: the class number\n",
      "\n",
      "\u001b[m\u001b[1m*\u001b[m  \u001b[1mv.cyc\u001b[m:  a  vector  giving  the  structure of the class group as a product of\n",
      "cyclic groups;\n",
      "\n",
      "\u001b[m\u001b[1m*\u001b[m \u001b[1mv.gen\u001b[m: a vector giving generators of those cyclic groups (as binary quadratic\n",
      "/*-- (type RETURN to continue) --*/\n",
      "forms).\n",
      "\n",
      "\u001b[m\u001b[1m*\u001b[m  \u001b[1mv.reg\u001b[m:  the  regulator,   computed to an accuracy which is the maximum of an\n",
      "internal accuracy determined by the program and the current default  (note that\n",
      "once  the regulator is known to a small accuracy it is trivial to compute it to\n",
      "very high accuracy, see the tutorial).\n",
      "\n",
      "\u001b[m   The  \u001b[4mflag\u001b[m  is  obsolete  and  should be left alone.   In older versions,  it\n",
      "supposedly computed the narrow class group when D > 0, but this did not work at\n",
      "all; use the general function \u001b[1mbnfnarrow\u001b[m.\n",
      "\n",
      "\u001b[m   Optional parameter \u001b[4mtech\u001b[m is a row vector of the form [c_1, c_2], where c_1 \u001b[1m<=\u001b[m\n",
      "c_2 are nonnegative real numbers which control the execution time and the stack\n",
      "size,   see  \u001b[1mse:GRHbnf\u001b[m.    The  parameter is used as a threshold to balance the\n",
      "relation finding phase against the final linear algebra. Increasing the default\n",
      "c_1 means that relations are easier to find,  but more relations are needed and\n",
      "the  linear  algebra will be harder.   The default value for c_1 is 0 and means\n",
      "that it is taken equal to c_2.  The parameter c_2 is mostly obsolete and should\n",
      "/*-- (type RETURN to continue) --*/\n",
      "not  be  changed,   but  we  still  document  it for completeness: we compute a\n",
      "tentative  class  group by generators and relations using a factorbase of prime\n",
      "ideals \u001b[1m<=\u001b[m c_1 (log |D|)^2, then prove that ideals of norm \u001b[1m<=\u001b[m c_2 (log |D|)^2 do\n",
      "not generate a larger group.   By default an optimal c_2 is chosen, so that the\n",
      "result  is  provably  correct  under the GRH --- a famous result of Bach states\n",
      "that  c_2  = 6 is fine,  but it is possible to improve on this algorithmically.\n",
      "You may provide a smaller c_2,  it will be ignored (we use the provably correct\n",
      "one);    you may provide a larger c_2 than the default value,  which results in\n",
      "longer computing times for equally correct outputs (under GRH).\n",
      "\n",
      "\u001b[m   The library syntax is \u001b[1mGEN \u001b[1mquadclassunit0\u001b[m(GEN D,  long flag, GEN tech = NULL,\n",
      "long  prec)\u001b[m.   If you really need to experiment with the \u001b[4mtech\u001b[m parameter,  it is\n",
      "usually more convenient to use \u001b[1mGEN \u001b[1mBuchquad\u001b[m(GEN D,  double c1,  double c2, long\n",
      "prec)\u001b[m.    If  only  the class number is needed,  \u001b[1mGEN \u001b[1mquadclassno\u001b[m(GEN D)\u001b[m will be\n",
      "faster (still assuming the GRH), but will not provide the group structure.  For\n",
      "negative D,  |D| < 10^{20},  \u001b[1mqfbclassno\u001b[m should be faster but may return a wrong\n",
      "result.\n",
      "\u001b[0m\n"
     ]
    }
   ],
   "source": [
    "??quadclassunit"
   ]
  },
  {
   "cell_type": "code",
   "execution_count": 30,
   "id": "4a813086-508f-4e27-a922-fc805f05c7e1",
   "metadata": {},
   "outputs": [
    {
     "data": {
      "text/plain": [
       "(d)->my(D,s,f,ff,Delta,v);[D,s]=coredisc((d+1)*(d-3),1);f=divisors(s);ff=apply(sqr,f);Delta=ff*D;v=vector(#f,k,quadclassunit(Delta[k]));for(k=1,#v,if(v[k][1]==1,v[k][2]=[1];v[k][3]=[prinredqfb(Delta[k])];););v;h=vector(#f,k,towerh(d,Delta[k]));print(v,\"\\n\",h)"
      ]
     },
     "execution_count": 30,
     "metadata": {},
     "output_type": "execute_result"
    }
   ],
   "source": [
    "sicdatatable(d) = \n",
    "{\n",
    "    my(D,s,f,ff,Delta,v);\n",
    "    [D,s] = coredisc( (d+1)*(d-3), 1);\n",
    "    f = divisors(s);\n",
    "    ff = apply(sqr,f);\n",
    "    Delta = ff*D;\n",
    "    v = vector( #f, k, quadclassunit(Delta[k]) );\n",
    "    for(k = 1, #v,\n",
    "        if(v[k][1]==1, \n",
    "            v[k][2] = [1];\n",
    "            v[k][3] = [prinredqfb(Delta[k])];\n",
    "        );\n",
    "    );\n",
    "    v;\n",
    "    \n",
    "    h = vector(#f, k, towerh(d, Delta[k]));\n",
    "    print(v,\"\\n\",h)\n",
    "}"
   ]
  },
  {
   "cell_type": "code",
   "execution_count": 30,
   "id": "3f43fca1-c544-4efd-935f-fc67cdd8d8e7",
   "metadata": {},
   "outputs": [
    {
     "name": "stdout",
     "output_type": "stream",
     "text": [
      "[[1, [1], [Qfb(1, 1, -1, 0.E-38)], 0.48121182505960344749775891342436842314], [1, [1], [Qfb(1, 5, -5, 0.E-38)], 1.9248473002384137899910356536974736925]]\n",
      "[2, 1]\n"
     ]
    }
   ],
   "source": [
    "sicdatatable(8)"
   ]
  },
  {
   "cell_type": "code",
   "execution_count": 102,
   "id": "c552856c-e5c3-4cc7-8608-f8bcbda52fa0",
   "metadata": {},
   "outputs": [
    {
     "data": {
      "text/plain": [
       "(d)->my(D,s,f,ff,Delta,v,t,u,h,a,b);[D,s]=coredisc((d+1)*(d-3),1);f=divisors(s);ff=apply(sqr,f);Delta=ff*D;v=vector(#f,k,quadclassunit(Delta[k]));for(k=1,#v,if(v[k][1]==1,v[k][2]=[1];v[k][3]=[prinredqfb(Delta[k])];););t=sum(k=1,#f,v[k][1]);u=vector(#f,k,quadunit(Delta[k]));a=trace(u)/2;b=round(apply(sqrt,apply(sqr,u-a)/D));for(k=1,#u,if(norm(u[k])==-1,u[k]=u[k]^2););h=round(acosh((d-1)/2)/log(u[1]));[d,D,h,t,f,v,u,a,b]"
      ]
     },
     "execution_count": 102,
     "metadata": {},
     "output_type": "execute_result"
    }
   ],
   "source": [
    "sicclass(d) = \n",
    "{\n",
    "    my(D,s,f,ff,Delta,v,t,u,h,a,b);\n",
    "    [D,s] = coredisc( (d+1)*(d-3), 1);\n",
    "    f = divisors(s);\n",
    "    ff = apply(sqr,f);\n",
    "    Delta = ff*D;\n",
    "    v = vector( #f, k, quadclassunit(Delta[k]) );\n",
    "    for(k = 1, #v,\n",
    "        if(v[k][1]==1, \n",
    "            v[k][2] = [1];\n",
    "            v[k][3] = [prinredqfb(Delta[k])];\n",
    "        );\n",
    "    );\n",
    "    t = sum( k=1, #f, v[k][1] ); \\\\ total number in dimension d\n",
    "    u = vector(#f, k, quadunit(Delta[k]));\n",
    "    a = trace(u)/2;\n",
    "    b = round(apply(sqrt,apply(sqr,u-a)/D));\n",
    "    for(k = 1, #u,\n",
    "        if(norm(u[k]) == -1, u[k] = u[k]^2);\n",
    "    );\n",
    "    h = round(acosh((d-1)/2)/log(u[1]));\n",
    "    [d,D,h,t,f,v,u,a,b]\n",
    "}\n"
   ]
  },
  {
   "cell_type": "code",
   "execution_count": 107,
   "id": "c10839e5-8ca5-4967-bea7-557b90bae634",
   "metadata": {},
   "outputs": [
    {
     "data": {
      "text/plain": [
       "[7, 8, 1, 2, [1, 2], [[1, [1], [Qfb(1, 2, -1, 0.E-38)], 0.88137358701954302523260932497979230903], [1, [1], [Qfb(1, 4, -4, 0.E-38)], 1.7627471740390860504652186499595846181]], [3 + 2*w, 3 + w], [1, 3], [1, 1]]"
      ]
     },
     "execution_count": 107,
     "metadata": {},
     "output_type": "execute_result"
    }
   ],
   "source": [
    "v = sicclass(7)"
   ]
  },
  {
   "cell_type": "code",
   "execution_count": 98,
   "id": "735ac133-beb2-44f7-a616-49a6eeb7ddb5",
   "metadata": {},
   "outputs": [
    {
     "data": {
      "text/plain": [
       "[1, 1, 10, 10, 10, 10]"
      ]
     },
     "execution_count": 98,
     "metadata": {},
     "output_type": "execute_result"
    }
   ],
   "source": [
    "apply(sqrtint,[1, 1, 100, 100, 100, 100])"
   ]
  },
  {
   "cell_type": "code",
   "execution_count": 89,
   "id": "4fe6a8f7-9b96-4d79-b676-4567f8597c6c",
   "metadata": {},
   "outputs": [
    {
     "data": {
      "text/plain": [
       "[25/21, 25/21, 343/3, 343/3, 343/3, 343/3]"
      ]
     },
     "execution_count": 89,
     "metadata": {},
     "output_type": "execute_result"
    }
   ],
   "source": [
    "apply(sqr,[5, 5, 49, 49, 49, 49])/Delta0"
   ]
  },
  {
   "cell_type": "code",
   "execution_count": 99,
   "id": "25808a14-d09d-473e-881a-5ee03a4b1f6f",
   "metadata": {},
   "outputs": [
    {
     "name": "stdout",
     "output_type": "stream",
     "text": [
      "sqrt(x): square root of x.\n",
      "\n"
     ]
    }
   ],
   "source": [
    "?sqrt"
   ]
  },
  {
   "cell_type": "code",
   "execution_count": null,
   "id": "34f96c44-3ff3-4d48-9212-aef6c3451742",
   "metadata": {},
   "outputs": [],
   "source": []
  },
  {
   "cell_type": "code",
   "execution_count": null,
   "id": "3e516d28-b025-4b5e-8afb-41338d3f6aff",
   "metadata": {},
   "outputs": [],
   "source": []
  },
  {
   "cell_type": "code",
   "execution_count": null,
   "id": "61031e27-7059-4444-adcb-035d20cc6f51",
   "metadata": {},
   "outputs": [],
   "source": []
  },
  {
   "cell_type": "code",
   "execution_count": null,
   "id": "2c1711cc-2f35-404a-85d0-6a4732b64f29",
   "metadata": {},
   "outputs": [],
   "source": []
  },
  {
   "cell_type": "code",
   "execution_count": null,
   "id": "a39a2000-20bb-4de7-908b-d991e6714e33",
   "metadata": {},
   "outputs": [],
   "source": []
  },
  {
   "cell_type": "code",
   "execution_count": null,
   "id": "60db444f-d97c-4f50-b146-e11af990689b",
   "metadata": {},
   "outputs": [],
   "source": []
  },
  {
   "cell_type": "code",
   "execution_count": null,
   "id": "194820c8-2ffc-4c3b-b357-b1bc89f53145",
   "metadata": {
    "tags": []
   },
   "outputs": [
    {
     "data": {
      "text/plain": [
       "(A,beta)->my(W,B=A,bvals=List([]));W=psl2word(A);for(j=2,#W,B=[0,1;-1,W[j-1]]*B;listput(bvals,(B[1,1]*beta+B[1,2])/(B[2,1]*beta+B[2,2])););return(Vec(bvals))"
      ]
     },
     "execution_count": 102,
     "metadata": {},
     "output_type": "execute_result"
    }
   ],
   "source": [
    "allbvals(A,beta) = \n",
    "{\n",
    "    my( W, B = A, bvals = List([]) );\n",
    "\n",
    "    W = psl2word(A);\n",
    "    for( j=2, #W,\n",
    "        B = [0,1;-1,W[j-1]]*B;\n",
    "        listput(bvals, (B[1,1]*beta+B[1,2])/(B[2,1]*beta+B[2,2]) );\n",
    "    );\n",
    "    return( Vec(bvals) )\n",
    "}"
   ]
  },
  {
   "cell_type": "code",
   "execution_count": null,
   "id": "41e183a8-228b-48c9-afb4-8c142815a713",
   "metadata": {},
   "outputs": [],
   "source": []
  },
  {
   "cell_type": "code",
   "execution_count": null,
   "id": "35d570f8-30c7-4168-b3f8-0180ea6298b1",
   "metadata": {},
   "outputs": [],
   "source": []
  },
  {
   "cell_type": "code",
   "execution_count": null,
   "id": "f1035dfe-bcfd-4457-a46a-fb0c19a2df8e",
   "metadata": {},
   "outputs": [],
   "source": []
  },
  {
   "cell_type": "code",
   "execution_count": null,
   "id": "a5696907-36ef-4270-84c6-ebf51c055638",
   "metadata": {},
   "outputs": [],
   "source": []
  },
  {
   "cell_type": "markdown",
   "id": "59c35f65-0797-4713-881e-5911ac4fe01f",
   "metadata": {},
   "source": [
    "The first step is to compute $L = L(Q)$, a generator of the stability group of $Q$, i.e. the group of matrices $M \\in \\mathrm{SL}_2(\\mathbb{Z})$ such that $MQM^T = Q$. If we can write an arbitrary $M$ in this group as $M =\\pm L^k$ for $k\\in \\mathbb{Z}$, then $L$ is a valid generator and any choice (there are four) gives us a choice of $L(Q)$. (The freedom in choice is $\\pm L,\\pm L^{-1}$.)"
   ]
  },
  {
   "cell_type": "code",
   "execution_count": null,
   "id": "d8086b31-2e75-43b1-8d62-adae97ea5907",
   "metadata": {},
   "outputs": [],
   "source": []
  },
  {
   "cell_type": "code",
   "execution_count": null,
   "id": "bd536726-1a00-4ae2-9fe3-219264c046c0",
   "metadata": {},
   "outputs": [],
   "source": []
  },
  {
   "cell_type": "code",
   "execution_count": null,
   "id": "8dca4793-5d45-4655-983f-3bf6fc04b62d",
   "metadata": {},
   "outputs": [],
   "source": []
  },
  {
   "cell_type": "code",
   "execution_count": null,
   "id": "915ed07c-5f18-42bb-9c6a-c9eb678ac669",
   "metadata": {},
   "outputs": [],
   "source": []
  },
  {
   "cell_type": "code",
   "execution_count": null,
   "id": "9d245bf6-f68f-4d03-8130-d6473eecc6e2",
   "metadata": {},
   "outputs": [],
   "source": []
  },
  {
   "cell_type": "code",
   "execution_count": null,
   "id": "36b5ecd4-9624-484b-beb8-d25ba6a048be",
   "metadata": {},
   "outputs": [],
   "source": []
  },
  {
   "cell_type": "code",
   "execution_count": null,
   "id": "34b7f68d-e8a5-4ecb-8889-0a85359837e7",
   "metadata": {},
   "outputs": [],
   "source": []
  },
  {
   "cell_type": "code",
   "execution_count": null,
   "id": "2cfc2e36-84c6-4436-b5fb-e59e5a17bf6f",
   "metadata": {},
   "outputs": [],
   "source": []
  },
  {
   "cell_type": "code",
   "execution_count": null,
   "id": "c1776cd6-4e48-44c7-81c7-a12edb9cce70",
   "metadata": {},
   "outputs": [],
   "source": []
  },
  {
   "cell_type": "markdown",
   "id": "2a0c54f0-573c-4f81-a5cd-3dbe43ac99c3",
   "metadata": {
    "jp-MarkdownHeadingCollapsed": true,
    "tags": []
   },
   "source": [
    "## Scratch workspace"
   ]
  },
  {
   "cell_type": "markdown",
   "id": "bb88e8a6-5d3c-447a-a995-9b00ea636fc2",
   "metadata": {},
   "source": [
    "This adds the q-Pochhamer symbol and the variant q-Pochhammer symbol."
   ]
  },
  {
   "cell_type": "code",
   "execution_count": 26,
   "id": "ebe9986a-0725-49ae-8f75-b5159881635d",
   "metadata": {},
   "outputs": [
    {
     "data": {
      "text/plain": [
       "\n",
       "[1 1]\n",
       "\n",
       "[0 1]\n"
      ]
     },
     "execution_count": 26,
     "metadata": {},
     "output_type": "execute_result"
    }
   ],
   "source": [
    "[1, 1; 2, 3] % 2"
   ]
  },
  {
   "cell_type": "code",
   "execution_count": 29,
   "id": "0ffd8c74-b0e6-4143-812b-5e7b7307e79d",
   "metadata": {},
   "outputs": [
    {
     "data": {
      "text/plain": [
       "2.9508497187473712051146708591409529426 - 0.95878919424435291979654916312937274643*I"
      ]
     },
     "execution_count": 29,
     "metadata": {},
     "output_type": "execute_result"
    }
   ],
   "source": [
    "qpe(.1,.5+(1E-100)*I,14)"
   ]
  },
  {
   "cell_type": "code",
   "execution_count": 15,
   "id": "9d7f853a-b07f-4198-8e35-ae915cf19ce7",
   "metadata": {},
   "outputs": [
    {
     "data": {
      "text/plain": [
       "\n",
       "[1 2]\n",
       "\n",
       "[3 4]\n"
      ]
     },
     "execution_count": 15,
     "metadata": {},
     "output_type": "execute_result"
    }
   ],
   "source": [
    "L = [1,2;3,4]\n",
    "\n",
    "\n"
   ]
  },
  {
   "cell_type": "code",
   "execution_count": 31,
   "id": "e95fe382-ecb9-484d-b100-cfd1b4034bf4",
   "metadata": {},
   "outputs": [
    {
     "data": {
      "text/plain": [
       "-3254.1236255738056835903768879695342069 - 7.553243618576152959 E-32*I"
      ]
     },
     "execution_count": 31,
     "metadata": {},
     "output_type": "execute_result"
    }
   ],
   "source": [
    "sfjc(.1,.5+(1E-50)*I,[0,-1;1,0])"
   ]
  },
  {
   "cell_type": "code",
   "execution_count": 33,
   "id": "6f42f69b-5111-403b-b21d-ee0f2b533621",
   "metadata": {},
   "outputs": [
    {
     "data": {
      "text/plain": [
       "0.E-38 + 0.E-54*I"
      ]
     },
     "execution_count": 33,
     "metadata": {},
     "output_type": "execute_result"
    }
   ],
   "source": [
    "ds(2,4,6)-sqrt(2)"
   ]
  },
  {
   "cell_type": "code",
   "execution_count": 20,
   "id": "71b41bc6-16cc-4e55-8a03-4dbfa9c86cbb",
   "metadata": {},
   "outputs": [
    {
     "data": {
      "text/plain": [
       "\"false.\""
      ]
     },
     "execution_count": 20,
     "metadata": {},
     "output_type": "execute_result"
    }
   ],
   "source": [
    "if(a==0,\"True!\",\"false.\")"
   ]
  },
  {
   "cell_type": "code",
   "execution_count": 17,
   "id": "382b5d6a-b48d-4bfa-8062-3aca8bc9ceb8",
   "metadata": {},
   "outputs": [
    {
     "data": {
      "text/plain": [
       "462"
      ]
     },
     "execution_count": 17,
     "metadata": {},
     "output_type": "execute_result"
    }
   ],
   "source": [
    "default(realprecision)"
   ]
  },
  {
   "cell_type": "code",
   "execution_count": 16,
   "id": "dfa9aa34-a309-4c61-9eb7-c64b3f649fdb",
   "metadata": {},
   "outputs": [
    {
     "data": {
      "text/plain": [
       "[-1, 1]~"
      ]
     },
     "execution_count": 16,
     "metadata": {},
     "output_type": "execute_result"
    }
   ],
   "source": [
    "lindep([ds( 1/2, 1, (5+sqrt(21))/2 ), sqrt(2)])"
   ]
  },
  {
   "cell_type": "code",
   "execution_count": 24,
   "id": "3263e27b-0aae-4283-9bd9-30651a3d68c1",
   "metadata": {},
   "outputs": [],
   "source": [
    "ds(1,4,6)"
   ]
  },
  {
   "cell_type": "code",
   "execution_count": 23,
   "id": "9c862c16-7d18-47fa-b0d7-3c3dd8f04c1c",
   "metadata": {},
   "outputs": [
    {
     "data": {
      "text/plain": [
       "1"
      ]
     },
     "execution_count": 23,
     "metadata": {},
     "output_type": "execute_result"
    }
   ],
   "source": [
    "\\p120\n",
    "{\n",
    "my(t = (5+sqrt(21))/2);\n",
    "a = ds(1/3,1,t)*ds(1+t/3,1,t)*ds((2+2*t)/3,1,t) - sqrt((1+sqrt(21))/4 - sqrt((3+sqrt(21))/2)/2);\n",
    "\\\\algdep(a,8)\n",
    "abs(a) < 10^(-120)\n",
    "}"
   ]
  },
  {
   "cell_type": "code",
   "execution_count": 8,
   "id": "f04e266d-c938-4369-99be-abcd6c17cb92",
   "metadata": {},
   "outputs": [
    {
     "name": "stdout",
     "output_type": "stream",
     "text": [
      "algdep(z,k,{flag=0}): algebraic relations up to degree n of z, using \n",
      "lindep([1,z,...,z^(k-1)], flag).\n",
      "\n"
     ]
    }
   ],
   "source": [
    "?algdep"
   ]
  },
  {
   "cell_type": "code",
   "execution_count": null,
   "id": "4ddfcec4-a378-4337-851e-459f45ad2fbd",
   "metadata": {},
   "outputs": [],
   "source": []
  },
  {
   "cell_type": "code",
   "execution_count": 113,
   "id": "0ce15c76-427c-4c2f-8120-552b092cfb7a",
   "metadata": {},
   "outputs": [
    {
     "data": {
      "text/plain": [
       "1.7272337110188889251 E-77 + 0.E-77*I"
      ]
     },
     "execution_count": 113,
     "metadata": {},
     "output_type": "execute_result"
    }
   ],
   "source": [
    "ds(1/3,1,t)*ds(1+t/3,1,t)*ds((2+2*t)/3,1,t) - 1.0*sqrt((1+sqrt(21))/4 - sqrt((3+sqrt(21))/2)/2)"
   ]
  },
  {
   "cell_type": "code",
   "execution_count": null,
   "id": "d825825a-4807-44b5-8f7a-ee6f0e1cec5d",
   "metadata": {},
   "outputs": [],
   "source": []
  },
  {
   "cell_type": "code",
   "execution_count": 6,
   "id": "71a6b129-0eb4-4cb7-8bc3-8026752d2955",
   "metadata": {},
   "outputs": [
    {
     "name": "stdout",
     "output_type": "stream",
     "text": [
      "231\n"
     ]
    }
   ],
   "source": [
    "{localprec(200);\n",
    "\n",
    "print();\n",
    "}"
   ]
  },
  {
   "cell_type": "code",
   "execution_count": null,
   "id": "293cad90-bedb-4a18-a1fa-137601d6c8b5",
   "metadata": {},
   "outputs": [],
   "source": []
  },
  {
   "cell_type": "markdown",
   "id": "01774a89-3f5a-4a22-9486-901689098372",
   "metadata": {},
   "source": [
    "Here is a rewrite that tries to improve the precision by working in log space and pushing the z point closer to the real axis."
   ]
  },
  {
   "cell_type": "code",
   "execution_count": null,
   "id": "15517224-65c7-407d-8f4d-c6e326840edb",
   "metadata": {},
   "outputs": [],
   "source": [
    "\\\\ Double sine function\n",
    "ds(w,b1,b2) = \n",
    "{\n",
    "    if( b1*b2 == 0 , \n",
    "        error(\"Domain error, b1*b2 == 0.\")\n",
    "    );\n",
    "    if( bitand(imag(b1/b2) == 0, real(b1/b2) < 0) ,\n",
    "        error(\"Domain error, imag(b1/b2)==0 and real(b1/b2) < 0.\");\n",
    "    );\n",
    "    \n",
    "    \\\\ Make the second one the longer (absolute) period and normalize it to 1.\n",
    "    if( abs(b2) < abs(b1), \n",
    "        return( exp(dsShift(w/b1,b2/b1)) );\n",
    "        ,\n",
    "        return( exp(dsShift(w/b2,b1/b2)) );\n",
    "    )    \n",
    "}\n",
    "\n",
    "\\\\ Shift real(z) until 0 < real(z) < real(w)+1 and abs(imag(z)) < abs(imag(w))\n",
    "dsShift(z,w) =\n",
    "{\n",
    "    \\\\ First minimize the distance to the real axis\n",
    "    if( imag(w) > 0,\n",
    "        if(imag(z) >= imag(w),\n",
    "            return( dsShift(z-w, w)-log(2*sin(Pi*(z-w))) ),\n",
    "        imag(z) <= -imag(w),\n",
    "            return( dsShift(z+w, w)+log(2*sin(Pi*z)) )\n",
    "        );,\n",
    "    imag(w) < 0,\n",
    "        if(imag(z) <= imag(w),\n",
    "            return( dsShift(z-w, w)-log(2*sin(Pi*(z-w))) ),\n",
    "        imag(z) >= -imag(w),\n",
    "            return( dsShift(z+w, w)+log(2*sin(Pi*z)) )\n",
    "        );,\n",
    "    );\n",
    "    \n",
    "    \n",
    "    \\\\ Now shift real(z) into the domain for the integral formula.\n",
    "    if(z == 0,\n",
    "        return( 0 ),\n",
    "    real(z) <= 0, \n",
    "        return( dsShift(z+1, w)+log(2*sin(Pi*z/w)) ),\n",
    "    real(z) >= real(w)+1,\n",
    "        return( dsShift(z-1, w)-log(2*sin(Pi*(z-1)/w)) ),\n",
    "    1,\n",
    "        return( dsInt(z, w) )\n",
    "    );\n",
    "}\n",
    "\n",
    "\\\\ Integral formula for the double sine function\n",
    "dsInt(z,w) =\n",
    "{    \n",
    "    my( a, b, c, d, EPS);\n",
    "\n",
    "    EPS = 1E-3; \\\\ hard code the boundary for now. In principle, this choice shouldn't matter.\n",
    "    \n",
    "    \\\\ integrate the power series around zero, up to EPS\n",
    "    a = dsPowerSeries(z,w,EPS);\n",
    "\n",
    "    \\\\ numerically integrate from EPS to 1\n",
    "    b = intnum(t=EPS, 1, \\\n",
    "            (expm1(-t*z)-expm1(-t*(w+1-z)))/(t*(expm1(-w*t))*(expm1(-t))) \\\n",
    "             - (w+1-2*z)/(w*t^2));\n",
    "\n",
    "    \\\\ integrate 1 to oo\n",
    "    c = intnum(t=1, [+oo, min(real(z),real(w+1-z))], \\\n",
    "            (exp(-t*z)-exp(-t*(w+1-z)))/(t*(1-exp(-w*t))*(1-exp(-t)))); \n",
    "\n",
    "    \\\\ boundary term\n",
    "    d = -(w+1-2*z)/w;\n",
    "\n",
    "    -(a+b+c+d)\n",
    "}\n",
    "\n",
    "\\\\ Integrate the Double sine power series in the main domain from zero to eps.\n",
    "dsPowerSeries(z,w,eps) = \n",
    "{\n",
    "    my( isp = default(seriesprecision), csp = default(seriesprecision), sa, sb, a = 1, b = 0);\n",
    "                        \n",
    "    \\\\ keep doubling seriesprecision until convergence\n",
    "    while( abs(a-b) > 10^(-default(realprecision)),\n",
    "        default(seriesprecision, csp);\n",
    "        \\\\ integrate up to csp terms.\n",
    "        sa = intformal(serchop(Ser(sinh(((w+1)/2-z)*t)/(2*t*sinh(w*t/2)*sinh(t/2))-(w+1-2*z)/(w*t^2),t)));\n",
    "        \\\\ explicitly enforce odd parity\n",
    "        sa = (sa - subst(sa,t,-t))/2;\n",
    "        \\\\ for comparison, truncate to order csp-4.\n",
    "        sb = Ser(sa,t,csp-4);\n",
    "        a = subst(truncate(sa),t,eps);\n",
    "        b = subst(truncate(sb),t,eps);\n",
    "        csp = 2*csp;\n",
    "    );\n",
    "    \\\\restore original seriesprecision and return a\n",
    "    default(seriesprecision, isp);\n",
    "    a\n",
    "}\n",
    "\n",
    "\n",
    "\\\\ exponential function\n",
    "e(z) = exp(2*Pi*I*z)\n"
   ]
  },
  {
   "cell_type": "markdown",
   "id": "af5f4546-fa43-4f8b-ad28-e3ce911c2fc4",
   "metadata": {},
   "source": [
    "Some unit tests for the double sine function using the exact values computed in Shintani's original paper:\n",
    "T. Shintani, \"On a Kronecker limit formula for real quadratic fields\", J. Fac. Sci. Univ.\n",
    "Tokyo 24 (1977), 167–199.\n",
    "\n",
    "Shin-ya Koyama and Nobushige Kurokawa, \"Values of the double sine function\", Journal of Number Theory, 123 1 (2007), 204-223.\n",
    "http://www1.tmtv.ne.jp/~koyama/recentpapers/values.pdf\n",
    "\n",
    "and from\n",
    "Nobushige Kurokawa and Masato Wakayama, \"Algebraicity and transcendency of basic special values of Shintani’s double sine functions\", Proceedings of the Edinburgh Mathematical Society 49, (2006) 361–366.\n"
   ]
  },
  {
   "cell_type": "code",
   "execution_count": 48,
   "id": "3367744f-b4b0-4b2b-b577-b2cedcdc1d14",
   "metadata": {},
   "outputs": [
    {
     "data": {
      "text/plain": [
       "-2.2454038243245556026 E-76 + 0.E-76*I"
      ]
     },
     "execution_count": 48,
     "metadata": {},
     "output_type": "execute_result"
    }
   ],
   "source": [
    "a = ds(2-sqrt(2),1,sqrt(2)) + 2.0^(5/4) * cos(Pi/sqrt(2)) "
   ]
  },
  {
   "cell_type": "code",
   "execution_count": 57,
   "id": "e50988f1-e86f-4484-9b8b-04af86142e6e",
   "metadata": {},
   "outputs": [
    {
     "name": "stdout",
     "output_type": "stream",
     "text": [
      "   realprecision = 211 significant digits (200 digits displayed)\n"
     ]
    }
   ],
   "source": [
    "\\p200"
   ]
  },
  {
   "cell_type": "code",
   "execution_count": 21,
   "id": "fccd1284-84dc-4ab1-95eb-e629f5e9168e",
   "metadata": {},
   "outputs": [
    {
     "data": {
      "text/plain": [
       "1"
      ]
     },
     "execution_count": 21,
     "metadata": {},
     "output_type": "execute_result"
    }
   ],
   "source": [
    "ds(1,4,6) == 1.0"
   ]
  },
  {
   "cell_type": "code",
   "execution_count": 58,
   "id": "aa034d81-9bcb-4556-9b14-a7c3f674e0cf",
   "metadata": {},
   "outputs": [
    {
     "data": {
      "text/plain": [
       "-2.2454038243245556026 E-76 + 0.E-76*I"
      ]
     },
     "execution_count": 58,
     "metadata": {},
     "output_type": "execute_result"
    }
   ],
   "source": [
    "ds(2-sqrt(2),1,sqrt(2)) + 2.0^(5/4) * cos(Pi/sqrt(2)) "
   ]
  },
  {
   "cell_type": "markdown",
   "id": "63c89b54-1095-43df-a2a0-3b6ae8c91fa9",
   "metadata": {},
   "source": [
    "The next block of GP code is for the Shintani-Fadeev cocycle and Shin."
   ]
  },
  {
   "cell_type": "code",
   "execution_count": null,
   "id": "6263b392-cf72-422d-8bf2-571236683538",
   "metadata": {},
   "outputs": [],
   "source": [
    "\\\\ Shintani-Fadeev modular cocycle\n",
    "sfcocycle(M, z, tau) = \n",
    "{\n",
    "    my( a, b, c, d, S = [0, -1; 1, 0], k, L, s, t, u, v);\n",
    "    \n",
    "    a = M[1,1]; b = M[1,2]; c = M[2,1]; d = M[2,2];\n",
    "            \n",
    "    if( M == [1, 0; 0, 1],\n",
    "            return( 1 );\n",
    "        ,\n",
    "        M == [-1, 0; 0, -1],\n",
    "            error(\"M cannot equal -I.\");\n",
    "        ,\n",
    "        c < 0,\n",
    "            return( sfcocycle( M^-1, z/(c*tau+d), (a*tau+b)/(c*tau+d) )^(-1) );\n",
    "        ,\n",
    "        M == S,\n",
    "            return( e((tau-3+tau^-1)/24+(tau-z)*(1-z)/(4*tau))*(1-e(z/tau))*ds(z,tau,1) );\n",
    "        ,\n",
    "        1,\n",
    "            k = if( c == 0, 0, ceil(a/c) );\n",
    "            L = [0,1; -1, k]*M; \\\\ S^-1*T^-k*M\n",
    "            s = L[1,1]; t = L[1,2]; u = L[2,1]; v = L[2,2];\n",
    "            return( sfcocycle(S, z/(u*tau+v), (s*tau+t)/(u*tau+v) )*sfcocycle(L, z, tau) );\n",
    "    )\n",
    "}\n"
   ]
  }
 ],
 "metadata": {
  "kernelspec": {
   "display_name": "PARI/GP",
   "language": "gp",
   "name": "pari_jupyter"
  },
  "language_info": {
   "file_extension": ".gp",
   "mimetype": "text/x-pari-gp",
   "name": "gp"
  }
 },
 "nbformat": 4,
 "nbformat_minor": 5
}
